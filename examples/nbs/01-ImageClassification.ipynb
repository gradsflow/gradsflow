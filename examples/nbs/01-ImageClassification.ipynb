{
 "cells": [
  {
   "cell_type": "markdown",
   "metadata": {
    "pycharm": {
     "name": "#%% md\n"
    }
   },
   "source": [
    "<!--<badge>--><a href=\"https://colab.research.google.com/github/gradsflow/gradsflow/blob/main/examples/nbs/01-ImageClassification.ipynb\" target=\"_parent\"><img src=\"https://colab.research.google.com/assets/colab-badge.svg\" alt=\"Open In Colab\"/></a><!--</badge>-->\n",
    "\n",
    "First, install gradsflow\n",
    "\n",
    "`pip install git+https://github.com/gradsflow/gradsflow@main`"
   ]
  },
  {
   "cell_type": "code",
   "execution_count": null,
   "metadata": {
    "pycharm": {
     "name": "#%%\n"
    },
    "tags": []
   },
   "outputs": [],
   "source": [
    "import os\n",
    "import sys\n",
    "import warnings\n",
    "from pathlib import Path\n",
    "\n",
    "warnings.filterwarnings(\"ignore\")"
   ]
  },
  {
   "cell_type": "code",
   "execution_count": null,
   "metadata": {
    "pycharm": {
     "name": "#%%\n"
    }
   },
   "outputs": [],
   "source": [
    "import torchvision\n",
    "from torch.utils.data import DataLoader\n",
    "from torchvision import transforms as T\n",
    "\n",
    "from gradsflow import AutoImageClassifier\n",
    "from gradsflow.data.common import random_split_dataset"
   ]
  },
  {
   "cell_type": "markdown",
   "metadata": {
    "pycharm": {
     "name": "#%% md\n"
    }
   },
   "source": [
    "Let's use `CalTech101` dataset provided by `torchvision`"
   ]
  },
  {
   "cell_type": "code",
   "execution_count": null,
   "metadata": {
    "pycharm": {
     "name": "#%%\n"
    }
   },
   "outputs": [
    {
     "name": "stdout",
     "output_type": "stream",
     "text": [
      "Files already downloaded and verified\n"
     ]
    }
   ],
   "source": [
    "# Replace dataloaders with your custom dataset and you are all set to train your model\n",
    "image_size = (64, 64)\n",
    "batch_size = 4\n",
    "\n",
    "to_rgb = lambda x: x.convert(\"RGB\")\n",
    "\n",
    "augs = T.Compose([to_rgb, T.AutoAugment(), T.Resize(image_size), T.ToTensor()])\n",
    "data = torchvision.datasets.Caltech101(\"~/\", download=True, transform=augs)"
   ]
  },
  {
   "cell_type": "code",
   "execution_count": null,
   "metadata": {
    "pycharm": {
     "name": "#%%\n"
    }
   },
   "outputs": [],
   "source": [
    "train_data, val_data = random_split_dataset(data, 0.01)\n",
    "train_dl = DataLoader(train_data, batch_size=batch_size)\n",
    "val_dl = DataLoader(val_data, batch_size=batch_size)\n",
    "num_classes = len(data.categories)"
   ]
  },
  {
   "cell_type": "markdown",
   "metadata": {
    "pycharm": {
     "name": "#%% md\n"
    }
   },
   "source": [
    "If you want to run Gradsflow on a remote server then first setup [ray cluster](https://docs.ray.io/en/master/cluster/index.html) and initialize ray with the remote address."
   ]
  },
  {
   "cell_type": "code",
   "execution_count": null,
   "metadata": {
    "pycharm": {
     "name": "#%%\n"
    }
   },
   "outputs": [],
   "source": [
    "# ray.init(address=\"REMOTE_IP_ADDR\")\n",
    "# ray.init(local_mode=True)"
   ]
  },
  {
   "cell_type": "markdown",
   "metadata": {
    "pycharm": {
     "name": "#%% md\n"
    }
   },
   "source": [
    "To train an image classifier create an object of `AutoImageClassifier` and provide number of trials and timeout."
   ]
  },
  {
   "cell_type": "code",
   "execution_count": null,
   "metadata": {
    "pycharm": {
     "name": "#%%\n"
    }
   },
   "outputs": [
    {
     "name": "stdout",
     "output_type": "stream",
     "text": [
      "AutoImageClassifier initialised!\n"
     ]
    }
   ],
   "source": [
    "model = AutoImageClassifier(\n",
    "    train_dataloader=train_dl,\n",
    "    val_dataloader=val_dl,\n",
    "    num_classes=num_classes,\n",
    "    max_epochs=2,\n",
    "    optimization_metric=\"train_loss\",\n",
    "    n_trials=4,\n",
    ")\n",
    "print(\"AutoImageClassifier initialised!\")"
   ]
  },
  {
   "cell_type": "code",
   "execution_count": null,
   "metadata": {
    "pycharm": {
     "name": "#%%\n"
    }
   },
   "outputs": [
    {
     "name": "stderr",
     "output_type": "stream",
     "text": [
      "2022-01-09 14:50:33,186\tWARNING function_runner.py:563 -- Function checkpointing is disabled. This may result in unexpected behavior when using checkpointing features or certain schedulers. To enable, set the train function arguments to be `func(config, checkpoint_dir=None)`.\n"
     ]
    },
    {
     "data": {
      "text/html": [
       "== Status ==<br>Current time: 2022-01-09 14:50:33 (running for 00:00:00.12)<br>Memory usage on this node: 10.0/16.0 GiB<br>Using FIFO scheduling algorithm.<br>Resources requested: 0/8 CPUs, 0/0 GPUs, 0.0/4.28 GiB heap, 0.0/2.14 GiB objects<br>Result logdir: /Users/aniket/ray_results/optimization_objective_2022-01-09_14-50-33<br>Number of trials: 1/1 (1 PENDING)<br><table>\n",
       "<thead>\n",
       "<tr><th>Trial name                        </th><th>status  </th><th>loc  </th><th>backbone    </th><th style=\"text-align: right;\">        lr</th><th>optimizer  </th></tr>\n",
       "</thead>\n",
       "<tbody>\n",
       "<tr><td>optimization_objective_657f0_00000</td><td>PENDING </td><td>     </td><td>ssl_resnet18</td><td style=\"text-align: right;\">0.00333062</td><td>adam       </td></tr>\n",
       "</tbody>\n",
       "</table><br><br>"
      ],
      "text/plain": [
       "<IPython.core.display.HTML object>"
      ]
     },
     "metadata": {},
     "output_type": "display_data"
    },
    {
     "name": "stderr",
     "output_type": "stream",
     "text": [
      "\u001b[2m\u001b[36m(pid=2443)\u001b[0m /Users/aniket/miniconda3/envs/am/lib/python3.9/site-packages/gradsflow/utility/common.py:124: UserWarning: to_item didn't convert any value.\n",
      "\u001b[2m\u001b[36m(pid=2443)\u001b[0m   warnings.warn(\"to_item didn't convert any value.\")\n"
     ]
    },
    {
     "data": {
      "text/html": [
       "== Status ==<br>Current time: 2022-01-09 14:50:38 (running for 00:00:05.24)<br>Memory usage on this node: 10.0/16.0 GiB<br>Using FIFO scheduling algorithm.<br>Resources requested: 1.0/8 CPUs, 0/0 GPUs, 0.0/4.28 GiB heap, 0.0/2.14 GiB objects<br>Result logdir: /Users/aniket/ray_results/optimization_objective_2022-01-09_14-50-33<br>Number of trials: 1/1 (1 RUNNING)<br><table>\n",
       "<thead>\n",
       "<tr><th>Trial name                        </th><th>status  </th><th>loc           </th><th>backbone    </th><th style=\"text-align: right;\">        lr</th><th>optimizer  </th></tr>\n",
       "</thead>\n",
       "<tbody>\n",
       "<tr><td>optimization_objective_657f0_00000</td><td>RUNNING </td><td>127.0.0.1:2443</td><td>ssl_resnet18</td><td style=\"text-align: right;\">0.00333062</td><td>adam       </td></tr>\n",
       "</tbody>\n",
       "</table><br><br>"
      ],
      "text/plain": [
       "<IPython.core.display.HTML object>"
      ]
     },
     "metadata": {},
     "output_type": "display_data"
    },
    {
     "data": {
      "text/html": [
       "== Status ==<br>Current time: 2022-01-09 14:50:43 (running for 00:00:10.26)<br>Memory usage on this node: 10.0/16.0 GiB<br>Using FIFO scheduling algorithm.<br>Resources requested: 1.0/8 CPUs, 0/0 GPUs, 0.0/4.28 GiB heap, 0.0/2.14 GiB objects<br>Result logdir: /Users/aniket/ray_results/optimization_objective_2022-01-09_14-50-33<br>Number of trials: 1/1 (1 RUNNING)<br><table>\n",
       "<thead>\n",
       "<tr><th>Trial name                        </th><th>status  </th><th>loc           </th><th>backbone    </th><th style=\"text-align: right;\">        lr</th><th>optimizer  </th></tr>\n",
       "</thead>\n",
       "<tbody>\n",
       "<tr><td>optimization_objective_657f0_00000</td><td>RUNNING </td><td>127.0.0.1:2443</td><td>ssl_resnet18</td><td style=\"text-align: right;\">0.00333062</td><td>adam       </td></tr>\n",
       "</tbody>\n",
       "</table><br><br>"
      ],
      "text/plain": [
       "<IPython.core.display.HTML object>"
      ]
     },
     "metadata": {},
     "output_type": "display_data"
    },
    {
     "data": {
      "text/html": [
       "== Status ==<br>Current time: 2022-01-09 14:50:48 (running for 00:00:15.27)<br>Memory usage on this node: 9.9/16.0 GiB<br>Using FIFO scheduling algorithm.<br>Resources requested: 1.0/8 CPUs, 0/0 GPUs, 0.0/4.28 GiB heap, 0.0/2.14 GiB objects<br>Result logdir: /Users/aniket/ray_results/optimization_objective_2022-01-09_14-50-33<br>Number of trials: 1/1 (1 RUNNING)<br><table>\n",
       "<thead>\n",
       "<tr><th>Trial name                        </th><th>status  </th><th>loc           </th><th>backbone    </th><th style=\"text-align: right;\">        lr</th><th>optimizer  </th></tr>\n",
       "</thead>\n",
       "<tbody>\n",
       "<tr><td>optimization_objective_657f0_00000</td><td>RUNNING </td><td>127.0.0.1:2443</td><td>ssl_resnet18</td><td style=\"text-align: right;\">0.00333062</td><td>adam       </td></tr>\n",
       "</tbody>\n",
       "</table><br><br>"
      ],
      "text/plain": [
       "<IPython.core.display.HTML object>"
      ]
     },
     "metadata": {},
     "output_type": "display_data"
    },
    {
     "data": {
      "text/html": [
       "== Status ==<br>Current time: 2022-01-09 14:50:53 (running for 00:00:20.29)<br>Memory usage on this node: 9.9/16.0 GiB<br>Using FIFO scheduling algorithm.<br>Resources requested: 1.0/8 CPUs, 0/0 GPUs, 0.0/4.28 GiB heap, 0.0/2.14 GiB objects<br>Result logdir: /Users/aniket/ray_results/optimization_objective_2022-01-09_14-50-33<br>Number of trials: 1/1 (1 RUNNING)<br><table>\n",
       "<thead>\n",
       "<tr><th>Trial name                        </th><th>status  </th><th>loc           </th><th>backbone    </th><th style=\"text-align: right;\">        lr</th><th>optimizer  </th></tr>\n",
       "</thead>\n",
       "<tbody>\n",
       "<tr><td>optimization_objective_657f0_00000</td><td>RUNNING </td><td>127.0.0.1:2443</td><td>ssl_resnet18</td><td style=\"text-align: right;\">0.00333062</td><td>adam       </td></tr>\n",
       "</tbody>\n",
       "</table><br><br>"
      ],
      "text/plain": [
       "<IPython.core.display.HTML object>"
      ]
     },
     "metadata": {},
     "output_type": "display_data"
    },
    {
     "data": {
      "text/html": [
       "== Status ==<br>Current time: 2022-01-09 14:50:58 (running for 00:00:25.31)<br>Memory usage on this node: 9.9/16.0 GiB<br>Using FIFO scheduling algorithm.<br>Resources requested: 1.0/8 CPUs, 0/0 GPUs, 0.0/4.28 GiB heap, 0.0/2.14 GiB objects<br>Result logdir: /Users/aniket/ray_results/optimization_objective_2022-01-09_14-50-33<br>Number of trials: 1/1 (1 RUNNING)<br><table>\n",
       "<thead>\n",
       "<tr><th>Trial name                        </th><th>status  </th><th>loc           </th><th>backbone    </th><th style=\"text-align: right;\">        lr</th><th>optimizer  </th></tr>\n",
       "</thead>\n",
       "<tbody>\n",
       "<tr><td>optimization_objective_657f0_00000</td><td>RUNNING </td><td>127.0.0.1:2443</td><td>ssl_resnet18</td><td style=\"text-align: right;\">0.00333062</td><td>adam       </td></tr>\n",
       "</tbody>\n",
       "</table><br><br>"
      ],
      "text/plain": [
       "<IPython.core.display.HTML object>"
      ]
     },
     "metadata": {},
     "output_type": "display_data"
    },
    {
     "data": {
      "text/html": [
       "== Status ==<br>Current time: 2022-01-09 14:51:03 (running for 00:00:30.32)<br>Memory usage on this node: 9.9/16.0 GiB<br>Using FIFO scheduling algorithm.<br>Resources requested: 1.0/8 CPUs, 0/0 GPUs, 0.0/4.28 GiB heap, 0.0/2.14 GiB objects<br>Result logdir: /Users/aniket/ray_results/optimization_objective_2022-01-09_14-50-33<br>Number of trials: 1/1 (1 RUNNING)<br><table>\n",
       "<thead>\n",
       "<tr><th>Trial name                        </th><th>status  </th><th>loc           </th><th>backbone    </th><th style=\"text-align: right;\">        lr</th><th>optimizer  </th></tr>\n",
       "</thead>\n",
       "<tbody>\n",
       "<tr><td>optimization_objective_657f0_00000</td><td>RUNNING </td><td>127.0.0.1:2443</td><td>ssl_resnet18</td><td style=\"text-align: right;\">0.00333062</td><td>adam       </td></tr>\n",
       "</tbody>\n",
       "</table><br><br>"
      ],
      "text/plain": [
       "<IPython.core.display.HTML object>"
      ]
     },
     "metadata": {},
     "output_type": "display_data"
    },
    {
     "data": {
      "text/html": [
       "== Status ==<br>Current time: 2022-01-09 14:51:08 (running for 00:00:35.34)<br>Memory usage on this node: 9.9/16.0 GiB<br>Using FIFO scheduling algorithm.<br>Resources requested: 1.0/8 CPUs, 0/0 GPUs, 0.0/4.28 GiB heap, 0.0/2.14 GiB objects<br>Result logdir: /Users/aniket/ray_results/optimization_objective_2022-01-09_14-50-33<br>Number of trials: 1/1 (1 RUNNING)<br><table>\n",
       "<thead>\n",
       "<tr><th>Trial name                        </th><th>status  </th><th>loc           </th><th>backbone    </th><th style=\"text-align: right;\">        lr</th><th>optimizer  </th></tr>\n",
       "</thead>\n",
       "<tbody>\n",
       "<tr><td>optimization_objective_657f0_00000</td><td>RUNNING </td><td>127.0.0.1:2443</td><td>ssl_resnet18</td><td style=\"text-align: right;\">0.00333062</td><td>adam       </td></tr>\n",
       "</tbody>\n",
       "</table><br><br>"
      ],
      "text/plain": [
       "<IPython.core.display.HTML object>"
      ]
     },
     "metadata": {},
     "output_type": "display_data"
    },
    {
     "data": {
      "text/html": [
       "== Status ==<br>Current time: 2022-01-09 14:51:13 (running for 00:00:40.36)<br>Memory usage on this node: 9.9/16.0 GiB<br>Using FIFO scheduling algorithm.<br>Resources requested: 1.0/8 CPUs, 0/0 GPUs, 0.0/4.28 GiB heap, 0.0/2.14 GiB objects<br>Result logdir: /Users/aniket/ray_results/optimization_objective_2022-01-09_14-50-33<br>Number of trials: 1/1 (1 RUNNING)<br><table>\n",
       "<thead>\n",
       "<tr><th>Trial name                        </th><th>status  </th><th>loc           </th><th>backbone    </th><th style=\"text-align: right;\">        lr</th><th>optimizer  </th></tr>\n",
       "</thead>\n",
       "<tbody>\n",
       "<tr><td>optimization_objective_657f0_00000</td><td>RUNNING </td><td>127.0.0.1:2443</td><td>ssl_resnet18</td><td style=\"text-align: right;\">0.00333062</td><td>adam       </td></tr>\n",
       "</tbody>\n",
       "</table><br><br>"
      ],
      "text/plain": [
       "<IPython.core.display.HTML object>"
      ]
     },
     "metadata": {},
     "output_type": "display_data"
    },
    {
     "data": {
      "text/html": [
       "== Status ==<br>Current time: 2022-01-09 14:51:18 (running for 00:00:45.38)<br>Memory usage on this node: 9.9/16.0 GiB<br>Using FIFO scheduling algorithm.<br>Resources requested: 1.0/8 CPUs, 0/0 GPUs, 0.0/4.28 GiB heap, 0.0/2.14 GiB objects<br>Result logdir: /Users/aniket/ray_results/optimization_objective_2022-01-09_14-50-33<br>Number of trials: 1/1 (1 RUNNING)<br><table>\n",
       "<thead>\n",
       "<tr><th>Trial name                        </th><th>status  </th><th>loc           </th><th>backbone    </th><th style=\"text-align: right;\">        lr</th><th>optimizer  </th></tr>\n",
       "</thead>\n",
       "<tbody>\n",
       "<tr><td>optimization_objective_657f0_00000</td><td>RUNNING </td><td>127.0.0.1:2443</td><td>ssl_resnet18</td><td style=\"text-align: right;\">0.00333062</td><td>adam       </td></tr>\n",
       "</tbody>\n",
       "</table><br><br>"
      ],
      "text/plain": [
       "<IPython.core.display.HTML object>"
      ]
     },
     "metadata": {},
     "output_type": "display_data"
    },
    {
     "data": {
      "text/html": [
       "== Status ==<br>Current time: 2022-01-09 14:51:23 (running for 00:00:50.40)<br>Memory usage on this node: 9.9/16.0 GiB<br>Using FIFO scheduling algorithm.<br>Resources requested: 1.0/8 CPUs, 0/0 GPUs, 0.0/4.28 GiB heap, 0.0/2.14 GiB objects<br>Result logdir: /Users/aniket/ray_results/optimization_objective_2022-01-09_14-50-33<br>Number of trials: 1/1 (1 RUNNING)<br><table>\n",
       "<thead>\n",
       "<tr><th>Trial name                        </th><th>status  </th><th>loc           </th><th>backbone    </th><th style=\"text-align: right;\">        lr</th><th>optimizer  </th></tr>\n",
       "</thead>\n",
       "<tbody>\n",
       "<tr><td>optimization_objective_657f0_00000</td><td>RUNNING </td><td>127.0.0.1:2443</td><td>ssl_resnet18</td><td style=\"text-align: right;\">0.00333062</td><td>adam       </td></tr>\n",
       "</tbody>\n",
       "</table><br><br>"
      ],
      "text/plain": [
       "<IPython.core.display.HTML object>"
      ]
     },
     "metadata": {},
     "output_type": "display_data"
    },
    {
     "data": {
      "text/html": [
       "== Status ==<br>Current time: 2022-01-09 14:51:28 (running for 00:00:55.41)<br>Memory usage on this node: 9.9/16.0 GiB<br>Using FIFO scheduling algorithm.<br>Resources requested: 1.0/8 CPUs, 0/0 GPUs, 0.0/4.28 GiB heap, 0.0/2.14 GiB objects<br>Result logdir: /Users/aniket/ray_results/optimization_objective_2022-01-09_14-50-33<br>Number of trials: 1/1 (1 RUNNING)<br><table>\n",
       "<thead>\n",
       "<tr><th>Trial name                        </th><th>status  </th><th>loc           </th><th>backbone    </th><th style=\"text-align: right;\">        lr</th><th>optimizer  </th></tr>\n",
       "</thead>\n",
       "<tbody>\n",
       "<tr><td>optimization_objective_657f0_00000</td><td>RUNNING </td><td>127.0.0.1:2443</td><td>ssl_resnet18</td><td style=\"text-align: right;\">0.00333062</td><td>adam       </td></tr>\n",
       "</tbody>\n",
       "</table><br><br>"
      ],
      "text/plain": [
       "<IPython.core.display.HTML object>"
      ]
     },
     "metadata": {},
     "output_type": "display_data"
    },
    {
     "data": {
      "text/html": [
       "== Status ==<br>Current time: 2022-01-09 14:51:33 (running for 00:01:00.43)<br>Memory usage on this node: 10.0/16.0 GiB<br>Using FIFO scheduling algorithm.<br>Resources requested: 1.0/8 CPUs, 0/0 GPUs, 0.0/4.28 GiB heap, 0.0/2.14 GiB objects<br>Result logdir: /Users/aniket/ray_results/optimization_objective_2022-01-09_14-50-33<br>Number of trials: 1/1 (1 RUNNING)<br><table>\n",
       "<thead>\n",
       "<tr><th>Trial name                        </th><th>status  </th><th>loc           </th><th>backbone    </th><th style=\"text-align: right;\">        lr</th><th>optimizer  </th></tr>\n",
       "</thead>\n",
       "<tbody>\n",
       "<tr><td>optimization_objective_657f0_00000</td><td>RUNNING </td><td>127.0.0.1:2443</td><td>ssl_resnet18</td><td style=\"text-align: right;\">0.00333062</td><td>adam       </td></tr>\n",
       "</tbody>\n",
       "</table><br><br>"
      ],
      "text/plain": [
       "<IPython.core.display.HTML object>"
      ]
     },
     "metadata": {},
     "output_type": "display_data"
    },
    {
     "data": {
      "text/html": [
       "== Status ==<br>Current time: 2022-01-09 14:51:38 (running for 00:01:05.45)<br>Memory usage on this node: 10.1/16.0 GiB<br>Using FIFO scheduling algorithm.<br>Resources requested: 1.0/8 CPUs, 0/0 GPUs, 0.0/4.28 GiB heap, 0.0/2.14 GiB objects<br>Result logdir: /Users/aniket/ray_results/optimization_objective_2022-01-09_14-50-33<br>Number of trials: 1/1 (1 RUNNING)<br><table>\n",
       "<thead>\n",
       "<tr><th>Trial name                        </th><th>status  </th><th>loc           </th><th>backbone    </th><th style=\"text-align: right;\">        lr</th><th>optimizer  </th></tr>\n",
       "</thead>\n",
       "<tbody>\n",
       "<tr><td>optimization_objective_657f0_00000</td><td>RUNNING </td><td>127.0.0.1:2443</td><td>ssl_resnet18</td><td style=\"text-align: right;\">0.00333062</td><td>adam       </td></tr>\n",
       "</tbody>\n",
       "</table><br><br>"
      ],
      "text/plain": [
       "<IPython.core.display.HTML object>"
      ]
     },
     "metadata": {},
     "output_type": "display_data"
    },
    {
     "data": {
      "text/html": [
       "== Status ==<br>Current time: 2022-01-09 14:51:43 (running for 00:01:10.47)<br>Memory usage on this node: 10.1/16.0 GiB<br>Using FIFO scheduling algorithm.<br>Resources requested: 1.0/8 CPUs, 0/0 GPUs, 0.0/4.28 GiB heap, 0.0/2.14 GiB objects<br>Result logdir: /Users/aniket/ray_results/optimization_objective_2022-01-09_14-50-33<br>Number of trials: 1/1 (1 RUNNING)<br><table>\n",
       "<thead>\n",
       "<tr><th>Trial name                        </th><th>status  </th><th>loc           </th><th>backbone    </th><th style=\"text-align: right;\">        lr</th><th>optimizer  </th></tr>\n",
       "</thead>\n",
       "<tbody>\n",
       "<tr><td>optimization_objective_657f0_00000</td><td>RUNNING </td><td>127.0.0.1:2443</td><td>ssl_resnet18</td><td style=\"text-align: right;\">0.00333062</td><td>adam       </td></tr>\n",
       "</tbody>\n",
       "</table><br><br>"
      ],
      "text/plain": [
       "<IPython.core.display.HTML object>"
      ]
     },
     "metadata": {},
     "output_type": "display_data"
    },
    {
     "data": {
      "text/html": [
       "== Status ==<br>Current time: 2022-01-09 14:51:48 (running for 00:01:15.48)<br>Memory usage on this node: 10.1/16.0 GiB<br>Using FIFO scheduling algorithm.<br>Resources requested: 1.0/8 CPUs, 0/0 GPUs, 0.0/4.28 GiB heap, 0.0/2.14 GiB objects<br>Result logdir: /Users/aniket/ray_results/optimization_objective_2022-01-09_14-50-33<br>Number of trials: 1/1 (1 RUNNING)<br><table>\n",
       "<thead>\n",
       "<tr><th>Trial name                        </th><th>status  </th><th>loc           </th><th>backbone    </th><th style=\"text-align: right;\">        lr</th><th>optimizer  </th></tr>\n",
       "</thead>\n",
       "<tbody>\n",
       "<tr><td>optimization_objective_657f0_00000</td><td>RUNNING </td><td>127.0.0.1:2443</td><td>ssl_resnet18</td><td style=\"text-align: right;\">0.00333062</td><td>adam       </td></tr>\n",
       "</tbody>\n",
       "</table><br><br>"
      ],
      "text/plain": [
       "<IPython.core.display.HTML object>"
      ]
     },
     "metadata": {},
     "output_type": "display_data"
    },
    {
     "data": {
      "text/html": [
       "== Status ==<br>Current time: 2022-01-09 14:51:53 (running for 00:01:20.50)<br>Memory usage on this node: 10.1/16.0 GiB<br>Using FIFO scheduling algorithm.<br>Resources requested: 1.0/8 CPUs, 0/0 GPUs, 0.0/4.28 GiB heap, 0.0/2.14 GiB objects<br>Result logdir: /Users/aniket/ray_results/optimization_objective_2022-01-09_14-50-33<br>Number of trials: 1/1 (1 RUNNING)<br><table>\n",
       "<thead>\n",
       "<tr><th>Trial name                        </th><th>status  </th><th>loc           </th><th>backbone    </th><th style=\"text-align: right;\">        lr</th><th>optimizer  </th></tr>\n",
       "</thead>\n",
       "<tbody>\n",
       "<tr><td>optimization_objective_657f0_00000</td><td>RUNNING </td><td>127.0.0.1:2443</td><td>ssl_resnet18</td><td style=\"text-align: right;\">0.00333062</td><td>adam       </td></tr>\n",
       "</tbody>\n",
       "</table><br><br>"
      ],
      "text/plain": [
       "<IPython.core.display.HTML object>"
      ]
     },
     "metadata": {},
     "output_type": "display_data"
    },
    {
     "data": {
      "text/html": [
       "== Status ==<br>Current time: 2022-01-09 14:51:58 (running for 00:01:25.52)<br>Memory usage on this node: 10.0/16.0 GiB<br>Using FIFO scheduling algorithm.<br>Resources requested: 1.0/8 CPUs, 0/0 GPUs, 0.0/4.28 GiB heap, 0.0/2.14 GiB objects<br>Result logdir: /Users/aniket/ray_results/optimization_objective_2022-01-09_14-50-33<br>Number of trials: 1/1 (1 RUNNING)<br><table>\n",
       "<thead>\n",
       "<tr><th>Trial name                        </th><th>status  </th><th>loc           </th><th>backbone    </th><th style=\"text-align: right;\">        lr</th><th>optimizer  </th></tr>\n",
       "</thead>\n",
       "<tbody>\n",
       "<tr><td>optimization_objective_657f0_00000</td><td>RUNNING </td><td>127.0.0.1:2443</td><td>ssl_resnet18</td><td style=\"text-align: right;\">0.00333062</td><td>adam       </td></tr>\n",
       "</tbody>\n",
       "</table><br><br>"
      ],
      "text/plain": [
       "<IPython.core.display.HTML object>"
      ]
     },
     "metadata": {},
     "output_type": "display_data"
    },
    {
     "data": {
      "text/html": [
       "== Status ==<br>Current time: 2022-01-09 14:52:03 (running for 00:01:30.54)<br>Memory usage on this node: 10.0/16.0 GiB<br>Using FIFO scheduling algorithm.<br>Resources requested: 1.0/8 CPUs, 0/0 GPUs, 0.0/4.28 GiB heap, 0.0/2.14 GiB objects<br>Result logdir: /Users/aniket/ray_results/optimization_objective_2022-01-09_14-50-33<br>Number of trials: 1/1 (1 RUNNING)<br><table>\n",
       "<thead>\n",
       "<tr><th>Trial name                        </th><th>status  </th><th>loc           </th><th>backbone    </th><th style=\"text-align: right;\">        lr</th><th>optimizer  </th></tr>\n",
       "</thead>\n",
       "<tbody>\n",
       "<tr><td>optimization_objective_657f0_00000</td><td>RUNNING </td><td>127.0.0.1:2443</td><td>ssl_resnet18</td><td style=\"text-align: right;\">0.00333062</td><td>adam       </td></tr>\n",
       "</tbody>\n",
       "</table><br><br>"
      ],
      "text/plain": [
       "<IPython.core.display.HTML object>"
      ]
     },
     "metadata": {},
     "output_type": "display_data"
    },
    {
     "data": {
      "text/html": [
       "== Status ==<br>Current time: 2022-01-09 14:52:08 (running for 00:01:35.56)<br>Memory usage on this node: 10.0/16.0 GiB<br>Using FIFO scheduling algorithm.<br>Resources requested: 1.0/8 CPUs, 0/0 GPUs, 0.0/4.28 GiB heap, 0.0/2.14 GiB objects<br>Result logdir: /Users/aniket/ray_results/optimization_objective_2022-01-09_14-50-33<br>Number of trials: 1/1 (1 RUNNING)<br><table>\n",
       "<thead>\n",
       "<tr><th>Trial name                        </th><th>status  </th><th>loc           </th><th>backbone    </th><th style=\"text-align: right;\">        lr</th><th>optimizer  </th></tr>\n",
       "</thead>\n",
       "<tbody>\n",
       "<tr><td>optimization_objective_657f0_00000</td><td>RUNNING </td><td>127.0.0.1:2443</td><td>ssl_resnet18</td><td style=\"text-align: right;\">0.00333062</td><td>adam       </td></tr>\n",
       "</tbody>\n",
       "</table><br><br>"
      ],
      "text/plain": [
       "<IPython.core.display.HTML object>"
      ]
     },
     "metadata": {},
     "output_type": "display_data"
    },
    {
     "data": {
      "text/html": [
       "== Status ==<br>Current time: 2022-01-09 14:52:13 (running for 00:01:40.58)<br>Memory usage on this node: 9.9/16.0 GiB<br>Using FIFO scheduling algorithm.<br>Resources requested: 1.0/8 CPUs, 0/0 GPUs, 0.0/4.28 GiB heap, 0.0/2.14 GiB objects<br>Result logdir: /Users/aniket/ray_results/optimization_objective_2022-01-09_14-50-33<br>Number of trials: 1/1 (1 RUNNING)<br><table>\n",
       "<thead>\n",
       "<tr><th>Trial name                        </th><th>status  </th><th>loc           </th><th>backbone    </th><th style=\"text-align: right;\">        lr</th><th>optimizer  </th></tr>\n",
       "</thead>\n",
       "<tbody>\n",
       "<tr><td>optimization_objective_657f0_00000</td><td>RUNNING </td><td>127.0.0.1:2443</td><td>ssl_resnet18</td><td style=\"text-align: right;\">0.00333062</td><td>adam       </td></tr>\n",
       "</tbody>\n",
       "</table><br><br>"
      ],
      "text/plain": [
       "<IPython.core.display.HTML object>"
      ]
     },
     "metadata": {},
     "output_type": "display_data"
    },
    {
     "data": {
      "text/html": [
       "== Status ==<br>Current time: 2022-01-09 14:52:18 (running for 00:01:45.60)<br>Memory usage on this node: 9.9/16.0 GiB<br>Using FIFO scheduling algorithm.<br>Resources requested: 1.0/8 CPUs, 0/0 GPUs, 0.0/4.28 GiB heap, 0.0/2.14 GiB objects<br>Result logdir: /Users/aniket/ray_results/optimization_objective_2022-01-09_14-50-33<br>Number of trials: 1/1 (1 RUNNING)<br><table>\n",
       "<thead>\n",
       "<tr><th>Trial name                        </th><th>status  </th><th>loc           </th><th>backbone    </th><th style=\"text-align: right;\">        lr</th><th>optimizer  </th></tr>\n",
       "</thead>\n",
       "<tbody>\n",
       "<tr><td>optimization_objective_657f0_00000</td><td>RUNNING </td><td>127.0.0.1:2443</td><td>ssl_resnet18</td><td style=\"text-align: right;\">0.00333062</td><td>adam       </td></tr>\n",
       "</tbody>\n",
       "</table><br><br>"
      ],
      "text/plain": [
       "<IPython.core.display.HTML object>"
      ]
     },
     "metadata": {},
     "output_type": "display_data"
    },
    {
     "data": {
      "text/html": [
       "== Status ==<br>Current time: 2022-01-09 14:52:23 (running for 00:01:50.62)<br>Memory usage on this node: 10.1/16.0 GiB<br>Using FIFO scheduling algorithm.<br>Resources requested: 1.0/8 CPUs, 0/0 GPUs, 0.0/4.28 GiB heap, 0.0/2.14 GiB objects<br>Result logdir: /Users/aniket/ray_results/optimization_objective_2022-01-09_14-50-33<br>Number of trials: 1/1 (1 RUNNING)<br><table>\n",
       "<thead>\n",
       "<tr><th>Trial name                        </th><th>status  </th><th>loc           </th><th>backbone    </th><th style=\"text-align: right;\">        lr</th><th>optimizer  </th></tr>\n",
       "</thead>\n",
       "<tbody>\n",
       "<tr><td>optimization_objective_657f0_00000</td><td>RUNNING </td><td>127.0.0.1:2443</td><td>ssl_resnet18</td><td style=\"text-align: right;\">0.00333062</td><td>adam       </td></tr>\n",
       "</tbody>\n",
       "</table><br><br>"
      ],
      "text/plain": [
       "<IPython.core.display.HTML object>"
      ]
     },
     "metadata": {},
     "output_type": "display_data"
    },
    {
     "data": {
      "text/html": [
       "== Status ==<br>Current time: 2022-01-09 14:52:28 (running for 00:01:55.63)<br>Memory usage on this node: 10.1/16.0 GiB<br>Using FIFO scheduling algorithm.<br>Resources requested: 1.0/8 CPUs, 0/0 GPUs, 0.0/4.28 GiB heap, 0.0/2.14 GiB objects<br>Result logdir: /Users/aniket/ray_results/optimization_objective_2022-01-09_14-50-33<br>Number of trials: 1/1 (1 RUNNING)<br><table>\n",
       "<thead>\n",
       "<tr><th>Trial name                        </th><th>status  </th><th>loc           </th><th>backbone    </th><th style=\"text-align: right;\">        lr</th><th>optimizer  </th></tr>\n",
       "</thead>\n",
       "<tbody>\n",
       "<tr><td>optimization_objective_657f0_00000</td><td>RUNNING </td><td>127.0.0.1:2443</td><td>ssl_resnet18</td><td style=\"text-align: right;\">0.00333062</td><td>adam       </td></tr>\n",
       "</tbody>\n",
       "</table><br><br>"
      ],
      "text/plain": [
       "<IPython.core.display.HTML object>"
      ]
     },
     "metadata": {},
     "output_type": "display_data"
    },
    {
     "data": {
      "text/html": [
       "== Status ==<br>Current time: 2022-01-09 14:52:33 (running for 00:02:00.66)<br>Memory usage on this node: 10.1/16.0 GiB<br>Using FIFO scheduling algorithm.<br>Resources requested: 1.0/8 CPUs, 0/0 GPUs, 0.0/4.28 GiB heap, 0.0/2.14 GiB objects<br>Result logdir: /Users/aniket/ray_results/optimization_objective_2022-01-09_14-50-33<br>Number of trials: 1/1 (1 RUNNING)<br><table>\n",
       "<thead>\n",
       "<tr><th>Trial name                        </th><th>status  </th><th>loc           </th><th>backbone    </th><th style=\"text-align: right;\">        lr</th><th>optimizer  </th></tr>\n",
       "</thead>\n",
       "<tbody>\n",
       "<tr><td>optimization_objective_657f0_00000</td><td>RUNNING </td><td>127.0.0.1:2443</td><td>ssl_resnet18</td><td style=\"text-align: right;\">0.00333062</td><td>adam       </td></tr>\n",
       "</tbody>\n",
       "</table><br><br>"
      ],
      "text/plain": [
       "<IPython.core.display.HTML object>"
      ]
     },
     "metadata": {},
     "output_type": "display_data"
    },
    {
     "data": {
      "text/html": [
       "== Status ==<br>Current time: 2022-01-09 14:52:38 (running for 00:02:05.68)<br>Memory usage on this node: 10.1/16.0 GiB<br>Using FIFO scheduling algorithm.<br>Resources requested: 1.0/8 CPUs, 0/0 GPUs, 0.0/4.28 GiB heap, 0.0/2.14 GiB objects<br>Result logdir: /Users/aniket/ray_results/optimization_objective_2022-01-09_14-50-33<br>Number of trials: 1/1 (1 RUNNING)<br><table>\n",
       "<thead>\n",
       "<tr><th>Trial name                        </th><th>status  </th><th>loc           </th><th>backbone    </th><th style=\"text-align: right;\">        lr</th><th>optimizer  </th></tr>\n",
       "</thead>\n",
       "<tbody>\n",
       "<tr><td>optimization_objective_657f0_00000</td><td>RUNNING </td><td>127.0.0.1:2443</td><td>ssl_resnet18</td><td style=\"text-align: right;\">0.00333062</td><td>adam       </td></tr>\n",
       "</tbody>\n",
       "</table><br><br>"
      ],
      "text/plain": [
       "<IPython.core.display.HTML object>"
      ]
     },
     "metadata": {},
     "output_type": "display_data"
    },
    {
     "data": {
      "text/html": [
       "== Status ==<br>Current time: 2022-01-09 14:52:43 (running for 00:02:10.69)<br>Memory usage on this node: 10.1/16.0 GiB<br>Using FIFO scheduling algorithm.<br>Resources requested: 1.0/8 CPUs, 0/0 GPUs, 0.0/4.28 GiB heap, 0.0/2.14 GiB objects<br>Result logdir: /Users/aniket/ray_results/optimization_objective_2022-01-09_14-50-33<br>Number of trials: 1/1 (1 RUNNING)<br><table>\n",
       "<thead>\n",
       "<tr><th>Trial name                        </th><th>status  </th><th>loc           </th><th>backbone    </th><th style=\"text-align: right;\">        lr</th><th>optimizer  </th></tr>\n",
       "</thead>\n",
       "<tbody>\n",
       "<tr><td>optimization_objective_657f0_00000</td><td>RUNNING </td><td>127.0.0.1:2443</td><td>ssl_resnet18</td><td style=\"text-align: right;\">0.00333062</td><td>adam       </td></tr>\n",
       "</tbody>\n",
       "</table><br><br>"
      ],
      "text/plain": [
       "<IPython.core.display.HTML object>"
      ]
     },
     "metadata": {},
     "output_type": "display_data"
    },
    {
     "name": "stdout",
     "output_type": "stream",
     "text": [
      "Result for optimization_objective_657f0_00000:\n",
      "  date: 2022-01-09_14-52-48\n",
      "  done: false\n",
      "  experiment_id: f14d18631a8942e392e8b69780f61d85\n",
      "  hostname: Anikets-Turing-Machine.local\n",
      "  iterations_since_restore: 1\n",
      "  node_ip: 127.0.0.1\n",
      "  pid: 2443\n",
      "  should_checkpoint: true\n",
      "  time_since_restore: 132.34348511695862\n",
      "  time_this_iter_s: 132.34348511695862\n",
      "  time_total_s: 132.34348511695862\n",
      "  timestamp: 1641720168\n",
      "  timesteps_since_restore: 0\n",
      "  train_accuracy: 0.005975634484635094\n",
      "  train_loss: 5.911113500595093\n",
      "  training_iteration: 1\n",
      "  trial_id: 657f0_00000\n",
      "  val_accuracy: 0.0\n",
      "  val_loss: 137.33717279238851\n",
      "  \n",
      "Result for optimization_objective_657f0_00000:\n",
      "  date: 2022-01-09_14-52-48\n",
      "  done: true\n",
      "  experiment_id: f14d18631a8942e392e8b69780f61d85\n",
      "  experiment_tag: 0_backbone=ssl_resnet18,lr=0.0033306,optimizer=adam\n",
      "  hostname: Anikets-Turing-Machine.local\n",
      "  iterations_since_restore: 2\n",
      "  node_ip: 127.0.0.1\n",
      "  pid: 2443\n",
      "  should_checkpoint: true\n",
      "  time_since_restore: 132.47166109085083\n",
      "  time_this_iter_s: 0.12817597389221191\n",
      "  time_total_s: 132.47166109085083\n",
      "  timestamp: 1641720168\n",
      "  timesteps_since_restore: 0\n",
      "  train_accuracy: 0.005975634484635094\n",
      "  train_loss: 5.911113500595093\n",
      "  training_iteration: 2\n",
      "  trial_id: 657f0_00000\n",
      "  val_accuracy: 0.0\n",
      "  val_loss: 137.33717279238851\n",
      "  \n"
     ]
    },
    {
     "data": {
      "text/html": [
       "== Status ==<br>Current time: 2022-01-09 14:52:48 (running for 00:02:15.07)<br>Memory usage on this node: 10.0/16.0 GiB<br>Using FIFO scheduling algorithm.<br>Resources requested: 0/8 CPUs, 0/0 GPUs, 0.0/4.28 GiB heap, 0.0/2.14 GiB objects<br>Current best trial: 657f0_00000 with train_loss=5.911113500595093 and parameters={'backbone': 'ssl_resnet18', 'lr': 0.0033306242909976825, 'optimizer': 'adam'}<br>Result logdir: /Users/aniket/ray_results/optimization_objective_2022-01-09_14-50-33<br>Number of trials: 1/1 (1 TERMINATED)<br><table>\n",
       "<thead>\n",
       "<tr><th>Trial name                        </th><th>status    </th><th>loc           </th><th>backbone    </th><th style=\"text-align: right;\">        lr</th><th>optimizer  </th><th style=\"text-align: right;\">  iter</th><th style=\"text-align: right;\">  total time (s)</th><th style=\"text-align: right;\">  val_loss</th><th style=\"text-align: right;\">  train_loss</th><th style=\"text-align: right;\">  train_accuracy</th></tr>\n",
       "</thead>\n",
       "<tbody>\n",
       "<tr><td>optimization_objective_657f0_00000</td><td>TERMINATED</td><td>127.0.0.1:2443</td><td>ssl_resnet18</td><td style=\"text-align: right;\">0.00333062</td><td>adam       </td><td style=\"text-align: right;\">     2</td><td style=\"text-align: right;\">         132.472</td><td style=\"text-align: right;\">   137.337</td><td style=\"text-align: right;\">     5.91111</td><td style=\"text-align: right;\">      0.00597563</td></tr>\n",
       "</tbody>\n",
       "</table><br><br>"
      ],
      "text/plain": [
       "<IPython.core.display.HTML object>"
      ]
     },
     "metadata": {},
     "output_type": "display_data"
    },
    {
     "name": "stderr",
     "output_type": "stream",
     "text": [
      "2022-01-09 14:52:48,404\tINFO tune.py:630 -- Total run time: 135.22 seconds (135.06 seconds for the tuning loop).\n"
     ]
    },
    {
     "name": "stdout",
     "output_type": "stream",
     "text": [
      "completed!\n"
     ]
    }
   ],
   "source": [
    "analysis = model.hp_tune()\n",
    "print(\"completed!\")"
   ]
  },
  {
   "cell_type": "code",
   "execution_count": null,
   "metadata": {
    "pycharm": {
     "name": "#%%\n"
    }
   },
   "outputs": [],
   "source": [
    "# ray.shutdown()"
   ]
  }
 ],
 "metadata": {
  "interpreter": {
   "hash": "e17e8ddb8e7e3d1a1a4bbb9c7550f3ca117d116d32699553134de11279a06996"
  },
  "kernelspec": {
   "display_name": "Python 3 (ipykernel)",
   "language": "python",
   "name": "python3"
  },
  "language_info": {
   "codemirror_mode": {
    "name": "ipython",
    "version": 3
   },
   "file_extension": ".py",
   "mimetype": "text/x-python",
   "name": "python",
   "nbconvert_exporter": "python",
   "pygments_lexer": "ipython3",
   "version": "3.9.9"
  },
  "toc": {
   "base_numbering": 1,
   "nav_menu": {},
   "number_sections": true,
   "sideBar": true,
   "skip_h1_title": false,
   "title_cell": "Table of Contents",
   "title_sidebar": "Contents",
   "toc_cell": false,
   "toc_position": {},
   "toc_section_display": true,
   "toc_window_display": false
  }
 },
 "nbformat": 4,
 "nbformat_minor": 4
}
