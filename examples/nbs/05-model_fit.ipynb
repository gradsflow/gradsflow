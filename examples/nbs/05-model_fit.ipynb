{
 "cells": [
  {
   "cell_type": "code",
   "execution_count": null,
   "id": "f398b05e",
   "metadata": {},
   "outputs": [],
   "source": [
    "import os\n",
    "import sys\n",
    "import warnings\n",
    "from pathlib import Path\n",
    "\n",
    "warnings.filterwarnings(\"ignore\")\n",
    "\n",
    "os.chdir(\"../../\")\n",
    "# sys.path.append()"
   ]
  },
  {
   "cell_type": "code",
   "execution_count": null,
   "id": "68b4f96a",
   "metadata": {},
   "outputs": [],
   "source": [
    "from gradsflow.data.image import image_dataset_from_directory\n",
    "from gradsflow.core.data import AutoDataset\n",
    "from gradsflow import Model\n",
    "import timm\n",
    "\n",
    "import torch\n",
    "import torchvision"
   ]
  },
  {
   "cell_type": "code",
   "execution_count": null,
   "id": "27e14bc4",
   "metadata": {},
   "outputs": [],
   "source": [
    "data_dir = (\n",
    "    \"/Users/aniket/personal/gradsflow/gradsflow/data\"  # replace with your filepath\n",
    ")"
   ]
  },
  {
   "cell_type": "code",
   "execution_count": null,
   "id": "8af782c6",
   "metadata": {},
   "outputs": [],
   "source": [
    "train_data = image_dataset_from_directory(\n",
    "    f\"{data_dir}/hymenoptera_data/train/\",\n",
    "    image_size=(96, 96),\n",
    "    num_workers=None,\n",
    "    transform=True,\n",
    "    batch_size=4,\n",
    "    shuffle=True,\n",
    ")\n",
    "\n",
    "val_data = image_dataset_from_directory(\n",
    "    f\"{data_dir}/hymenoptera_data/val/\",\n",
    "    image_size=(96, 96),\n",
    "    num_workers=None,\n",
    "    transform=True,\n",
    ")\n",
    "\n",
    "train_dataset = train_data[\"ds\"]\n",
    "train_dl = train_data[\"dl\"]\n",
    "val_dl = val_data[\"dl\"]\n",
    "num_classes = len(train_dataset.classes)\n",
    "autodataset = AutoDataset(train_dl, val_dl, num_classes=num_classes)"
   ]
  },
  {
   "cell_type": "code",
   "execution_count": null,
   "id": "bdcda8a1",
   "metadata": {},
   "outputs": [],
   "source": [
    "cnn = timm.create_model(\"ssl_resnet18\", pretrained=True, num_classes=2)\n",
    "model = Model(cnn, \"adam\")"
   ]
  },
  {
   "cell_type": "code",
   "execution_count": null,
   "id": "5ba48bc9",
   "metadata": {
    "tags": [
     "keep_output"
    ]
   },
   "outputs": [
    {
     "data": {
      "application/vnd.jupyter.widget-view+json": {
       "model_id": "f7ddba2debdf4d5ebbd0c3d4f926ddca",
       "version_major": 2,
       "version_minor": 0
      },
      "text/plain": [
       "Output()"
      ]
     },
     "metadata": {},
     "output_type": "display_data"
    },
    {
     "data": {
      "text/html": [
       "<pre style=\"white-space:pre;overflow-x:auto;line-height:normal;font-family:Menlo,'DejaVu Sans Mono',consolas,'Courier New',monospace\">┏━━━━━━━┳━━━━━━━━━━━━┳━━━━━━━━━━┓\n",
       "┃<span style=\"font-weight: bold\"> epoch </span>┃<span style=\"font-weight: bold\"> train/loss </span>┃<span style=\"font-weight: bold\"> val/loss </span>┃\n",
       "┡━━━━━━━╇━━━━━━━━━━━━╇━━━━━━━━━━┩\n",
       "│ 3     │  0.972     │  0.784   │\n",
       "└───────┴────────────┴──────────┘\n",
       "</pre>\n"
      ],
      "text/plain": [
       "┏━━━━━━━┳━━━━━━━━━━━━┳━━━━━━━━━━┓\n",
       "┃\u001b[1m \u001b[0m\u001b[1mepoch\u001b[0m\u001b[1m \u001b[0m┃\u001b[1m \u001b[0m\u001b[1mtrain/loss\u001b[0m\u001b[1m \u001b[0m┃\u001b[1m \u001b[0m\u001b[1mval/loss\u001b[0m\u001b[1m \u001b[0m┃\n",
       "┡━━━━━━━╇━━━━━━━━━━━━╇━━━━━━━━━━┩\n",
       "│ 3     │  0.972     │  0.784   │\n",
       "└───────┴────────────┴──────────┘\n"
      ]
     },
     "metadata": {},
     "output_type": "display_data"
    },
    {
     "name": "stdout",
     "output_type": "stream",
     "text": [
      "Finished Training\n"
     ]
    },
    {
     "data": {
      "text/plain": [
       "Tracker(max_epochs=4, epoch=3, steps_per_epoch=1, train_loss=0.9719440634159292, train_accuracy=None, val_loss=0.8289798090021954, val_accuracy=0.5620915032679739, val_steps=153, train_steps=2)"
      ]
     },
     "execution_count": null,
     "metadata": {},
     "output_type": "execute_result"
    }
   ],
   "source": [
    "model.fit(autodataset, epochs=4, steps_per_epoch=1,)"
   ]
  },
  {
   "cell_type": "code",
   "execution_count": null,
   "id": "8fb4d530",
   "metadata": {},
   "outputs": [],
   "source": []
  }
 ],
 "metadata": {
  "celltoolbar": "Tags",
  "kernelspec": {
   "display_name": "Python 3 (ipykernel)",
   "language": "python",
   "name": "python3"
  },
  "language_info": {
   "codemirror_mode": {
    "name": "ipython",
    "version": 3
   },
   "file_extension": ".py",
   "mimetype": "text/x-python",
   "name": "python",
   "nbconvert_exporter": "python",
   "pygments_lexer": "ipython3",
   "version": "3.8.11"
  },
  "toc": {
   "base_numbering": 1,
   "nav_menu": {},
   "number_sections": true,
   "sideBar": true,
   "skip_h1_title": false,
   "title_cell": "Table of Contents",
   "title_sidebar": "Contents",
   "toc_cell": false,
   "toc_position": {},
   "toc_section_display": true,
   "toc_window_display": false
  }
 },
 "nbformat": 4,
 "nbformat_minor": 5
}
