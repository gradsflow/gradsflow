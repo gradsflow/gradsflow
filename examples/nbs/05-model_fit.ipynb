{
 "cells": [
  {
   "cell_type": "markdown",
   "id": "f41a9fc7",
   "metadata": {},
   "source": [
    "<!--<badge>--><a href=\"https://colab.research.google.com/github/gradsflow/gradsflow/blob/main/examples/nbs/05-model_fit.ipynb\" target=\"_parent\"><img src=\"https://colab.research.google.com/assets/colab-badge.svg\" alt=\"Open In Colab\"/></a><!--</badge>-->"
   ]
  },
  {
   "cell_type": "code",
   "execution_count": null,
   "id": "a78e23f3",
   "metadata": {},
   "outputs": [],
   "source": [
    "import os\n",
    "import sys\n",
    "import warnings\n",
    "from pathlib import Path\n",
    "\n",
    "warnings.filterwarnings(\"ignore\")\n",
    "\n",
    "os.chdir(\"../../\")\n",
    "# sys.path.append()"
   ]
  },
  {
   "cell_type": "code",
   "execution_count": null,
   "id": "587e95fc",
   "metadata": {},
   "outputs": [],
   "source": [
    "from gradsflow.data.image import image_dataset_from_directory\n",
    "from gradsflow.core.data import AutoDataset\n",
    "from gradsflow import Model\n",
    "import timm\n",
    "\n",
    "import torch\n",
    "import torchvision"
   ]
  },
  {
   "cell_type": "code",
   "execution_count": null,
   "id": "d6793a55",
   "metadata": {},
   "outputs": [],
   "source": [
    "data_dir = \"/Users/aniket/personal/gradsflow/gradsflow/data\"  # replace with your filepath"
   ]
  },
  {
   "cell_type": "code",
   "execution_count": null,
   "id": "3256e31e",
   "metadata": {},
   "outputs": [],
   "source": [
    "train_data = image_dataset_from_directory(\n",
    "    f\"{data_dir}/hymenoptera_data/train/\",\n",
    "    image_size=(96, 96),\n",
    "    num_workers=None,\n",
    "    transform=True,\n",
    "    batch_size=1,\n",
    "    shuffle=True,\n",
    ")\n",
    "\n",
    "val_data = image_dataset_from_directory(\n",
    "    f\"{data_dir}/hymenoptera_data/val/\",\n",
    "    image_size=(96, 96),\n",
    "    num_workers=None,\n",
    "    transform=True,\n",
    ")\n",
    "\n",
    "train_dataset = train_data[\"ds\"]\n",
    "train_dl = train_data[\"dl\"]\n",
    "val_dl = val_data[\"dl\"]\n",
    "num_classes = len(train_dataset.classes)\n",
    "autodataset = AutoDataset(train_dl, val_dl, num_classes=num_classes)"
   ]
  },
  {
   "cell_type": "code",
   "execution_count": null,
   "id": "e97d8af4",
   "metadata": {},
   "outputs": [],
   "source": [
    "cnn = timm.create_model(\"resnet18\", pretrained=False, num_classes=num_classes)\n",
    "\n",
    "model = Model(cnn)\n",
    "model.compile(\"crossentropyloss\", \"adam\")"
   ]
  },
  {
   "cell_type": "code",
   "execution_count": null,
   "id": "22ec4499",
   "metadata": {},
   "outputs": [
    {
     "data": {
      "text/html": [
       "<pre style=\"white-space:pre;overflow-x:auto;line-height:normal;font-family:Menlo,'DejaVu Sans Mono',consolas,'Courier New',monospace\"><span style=\"color: #800000; text-decoration-color: #800000\">Progress...</span> <span style=\"color: #729c1f; text-decoration-color: #729c1f\">━━━━━━━━━━━━━━━━━━━━━━━━━━━━━━━━━━</span> <span style=\"color: #800080; text-decoration-color: #800080\">100%</span> <span style=\"color: #008080; text-decoration-color: #008080\">0:00:00</span> ┏━━━━━━━┳━━━━━━━━━━━━┳━━━━━━━━━━┓\n",
       "                                                            ┃<span style=\"font-weight: bold\"> epoch </span>┃<span style=\"font-weight: bold\"> train/loss </span>┃<span style=\"font-weight: bold\"> val/loss </span>┃\n",
       "                                                            ┡━━━━━━━╇━━━━━━━━━━━━╇━━━━━━━━━━┩\n",
       "                                                            │ 1     │  0.680     │  0.689   │\n",
       "                                                            └───────┴────────────┴──────────┘\n",
       "</pre>\n"
      ],
      "text/plain": [
       "\u001b[31mProgress...\u001b[0m \u001b[38;2;114;156;31m━━━━━━━━━━━━━━━━━━━━━━━━━━━━━━━━━━\u001b[0m \u001b[35m100%\u001b[0m \u001b[36m0:00:00\u001b[0m ┏━━━━━━━┳━━━━━━━━━━━━┳━━━━━━━━━━┓\n",
       "                                                            ┃\u001b[1m \u001b[0m\u001b[1mepoch\u001b[0m\u001b[1m \u001b[0m┃\u001b[1m \u001b[0m\u001b[1mtrain/loss\u001b[0m\u001b[1m \u001b[0m┃\u001b[1m \u001b[0m\u001b[1mval/loss\u001b[0m\u001b[1m \u001b[0m┃\n",
       "                                                            ┡━━━━━━━╇━━━━━━━━━━━━╇━━━━━━━━━━┩\n",
       "                                                            │ 1     │  0.680     │  0.689   │\n",
       "                                                            └───────┴────────────┴──────────┘\n"
      ]
     },
     "metadata": {},
     "output_type": "display_data"
    },
    {
     "data": {
      "text/plain": [
       "Tracker(max_epochs=2, epoch=1, steps_per_epoch=10, tune_metric=0.5424836601307189, train=TrackingValues(loss=0.6795529072317156, steps=11, step_loss=None), val=TrackingValues(loss=0.6894768375152204, steps=153, step_loss=None))"
      ]
     },
     "execution_count": null,
     "metadata": {},
     "output_type": "execute_result"
    }
   ],
   "source": [
    "model.fit(\n",
    "    autodataset,\n",
    "    epochs=2,\n",
    "    steps_per_epoch=10,\n",
    ")"
   ]
  }
 ],
 "metadata": {
  "interpreter": {
   "hash": "e2d961b663a5ae03743cd178a74853be9b21def56a249d21ac1502fcfb05a9ce"
  },
  "kernelspec": {
   "display_name": "Python 3 (ipykernel)",
   "language": "python",
   "name": "python3"
  },
  "language_info": {
   "codemirror_mode": {
    "name": "ipython",
    "version": 3
   },
   "file_extension": ".py",
   "mimetype": "text/x-python",
   "name": "python",
   "nbconvert_exporter": "python",
   "pygments_lexer": "ipython3",
   "version": "3.8.11"
  },
  "toc": {
   "base_numbering": 1,
   "nav_menu": {},
   "number_sections": true,
   "sideBar": true,
   "skip_h1_title": false,
   "title_cell": "Table of Contents",
   "title_sidebar": "Contents",
   "toc_cell": false,
   "toc_position": {},
   "toc_section_display": true,
   "toc_window_display": false
  }
 },
 "nbformat": 4,
 "nbformat_minor": 5
}
