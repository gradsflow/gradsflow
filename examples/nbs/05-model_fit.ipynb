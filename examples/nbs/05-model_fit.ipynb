{
 "cells": [
  {
   "cell_type": "code",
   "execution_count": 7,
   "id": "208fadec",
   "metadata": {},
   "outputs": [],
   "source": [
    "import os\n",
    "import sys\n",
    "import warnings\n",
    "from pathlib import Path\n",
    "\n",
    "warnings.filterwarnings(\"ignore\")\n",
    "\n",
    "os.chdir(\"../../\")\n",
    "# sys.path.append()"
   ]
  },
  {
   "cell_type": "code",
   "execution_count": 8,
   "id": "85fb1fc6",
   "metadata": {},
   "outputs": [],
   "source": [
    "from gradsflow.data.image import image_dataset_from_directory\n",
    "from gradsflow.core.data import AutoDataset\n",
    "from gradsflow import Model\n",
    "import timm\n",
    "\n",
    "import torch\n",
    "import torchvision"
   ]
  },
  {
   "cell_type": "code",
   "execution_count": 9,
   "id": "02b05b11",
   "metadata": {},
   "outputs": [],
   "source": [
    "data_dir = \"/Users/aniket/personal/gradsflow/gradsflow/data\"  # replace with your filepath"
   ]
  },
  {
   "cell_type": "code",
   "execution_count": 10,
   "id": "795c095d",
   "metadata": {},
   "outputs": [],
   "source": [
    "train_data = image_dataset_from_directory(\n",
    "    f\"{data_dir}/hymenoptera_data/train/\",\n",
    "    image_size=(96, 96),\n",
    "    num_workers=None,\n",
    "    transform=True,\n",
    "    batch_size=4,\n",
    "    shuffle=True,\n",
    ")\n",
    "\n",
    "val_data = image_dataset_from_directory(\n",
    "    f\"{data_dir}/hymenoptera_data/val/\",\n",
    "    image_size=(96, 96),\n",
    "    num_workers=None,\n",
    "    transform=True,\n",
    ")\n",
    "\n",
    "train_dataset = train_data[\"ds\"]\n",
    "train_dl = train_data[\"dl\"]\n",
    "val_dl = val_data[\"dl\"]\n",
    "num_classes = len(train_dataset.classes)\n",
    "autodataset = AutoDataset(train_dl, val_dl, num_classes=num_classes)"
   ]
  },
  {
   "cell_type": "code",
   "execution_count": 11,
   "id": "df86f41a",
   "metadata": {},
   "outputs": [],
   "source": [
    "cnn = timm.create_model(\"resnet18\", pretrained=False, num_classes=num_classes)\n",
    "\n",
    "model = Model(cnn)\n",
    "model.compile(\"crossentropyloss\", \"adam\")"
   ]
  },
  {
   "cell_type": "code",
   "execution_count": null,
   "id": "5dcce1ee",
   "metadata": {},
   "outputs": [
    {
     "data": {
      "application/vnd.jupyter.widget-view+json": {
       "model_id": "8522a37d69f34241b820189341bc190b",
       "version_major": 2,
       "version_minor": 0
      },
      "text/plain": [
       "Output()"
      ]
     },
     "metadata": {},
     "output_type": "display_data"
    }
   ],
   "source": [
    "model.fit(\n",
    "    autodataset,\n",
    "    epochs=4,\n",
    "    steps_per_epoch=10,\n",
    ")"
   ]
  },
  {
   "cell_type": "code",
   "execution_count": null,
   "id": "e36c968f",
   "metadata": {},
   "outputs": [],
   "source": []
  }
 ],
 "metadata": {
  "interpreter": {
   "hash": "e2d961b663a5ae03743cd178a74853be9b21def56a249d21ac1502fcfb05a9ce"
  },
  "kernelspec": {
   "display_name": "Python 3 (ipykernel)",
   "language": "python",
   "name": "python3"
  },
  "language_info": {
   "codemirror_mode": {
    "name": "ipython",
    "version": 3
   },
   "file_extension": ".py",
   "mimetype": "text/x-python",
   "name": "python",
   "nbconvert_exporter": "python",
   "pygments_lexer": "ipython3",
   "version": "3.8.11"
  },
  "toc": {
   "base_numbering": 1,
   "nav_menu": {},
   "number_sections": true,
   "sideBar": true,
   "skip_h1_title": false,
   "title_cell": "Table of Contents",
   "title_sidebar": "Contents",
   "toc_cell": false,
   "toc_position": {},
   "toc_section_display": true,
   "toc_window_display": false
  }
 },
 "nbformat": 4,
 "nbformat_minor": 5
}
