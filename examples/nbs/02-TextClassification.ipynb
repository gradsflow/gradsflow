{
 "cells": [
  {
   "cell_type": "markdown",
   "id": "52697382",
   "metadata": {
    "id": "52697382"
   },
   "source": [
    "<!--<badge>--><a href=\"https://colab.research.google.com/github/gradsflow/gradsflow/blob/main/examples/nbs/02-TextClassification.ipynb\" target=\"_parent\"><img src=\"https://colab.research.google.com/assets/colab-badge.svg\" alt=\"Open In Colab\"/></a><!--</badge>-->"
   ]
  },
  {
   "cell_type": "code",
   "execution_count": null,
   "id": "e130bd40",
   "metadata": {
    "id": "e130bd40"
   },
   "outputs": [],
   "source": [
    "import os\n",
    "import sys\n",
    "\n",
    "os.chdir(\"../../\")"
   ]
  },
  {
   "cell_type": "code",
   "execution_count": null,
   "id": "592802fe",
   "metadata": {
    "id": "592802fe"
   },
   "outputs": [],
   "source": [
    "import warnings\n",
    "\n",
    "warnings.filterwarnings(\"ignore\")"
   ]
  },
  {
   "cell_type": "code",
   "execution_count": null,
   "id": "uTrRNUfn5wg4",
   "metadata": {
    "colab": {
     "base_uri": "https://localhost:8080/"
    },
    "id": "uTrRNUfn5wg4",
    "outputId": "4f38dd39-9a8c-4482-fed5-c6a4fbc435cd"
   },
   "outputs": [
    {
     "name": "stdout",
     "output_type": "stream",
     "text": [
      "Installing collected packages: gradsflow\n",
      "Successfully installed gradsflow-0.0.8\n"
     ]
    }
   ],
   "source": [
    "!pip install git+https://github.com/gradsflow/gradsflow@main"
   ]
  },
  {
   "cell_type": "code",
   "execution_count": null,
   "id": "q3iydRX56Sf2",
   "metadata": {
    "id": "q3iydRX56Sf2"
   },
   "outputs": [],
   "source": [
    "!pip install \"lightning-flash[text]\" wandb"
   ]
  },
  {
   "cell_type": "code",
   "execution_count": null,
   "id": "bf38e2b8",
   "metadata": {
    "id": "bf38e2b8"
   },
   "outputs": [],
   "source": [
    "from flash.core.data.utils import download_data\n",
    "from flash.text import TextClassificationData\n",
    "from gradsflow import AutoTextClassifier\n",
    "\n",
    "import ray"
   ]
  },
  {
   "cell_type": "code",
   "execution_count": null,
   "id": "5fc8603f",
   "metadata": {
    "colab": {
     "base_uri": "https://localhost:8080/",
     "height": 400,
     "referenced_widgets": [
      "4bc97da50e9a4dde9abb5746f2439ed1",
      "497837a4447d47cd9e1afd5a3cef9d01",
      "cd18830778b24e578361a4ae980a45b6",
      "8742f67dbd6b4286934643d969bd328c",
      "890d28faebcf4712bc0133ee223c2e07",
      "09b30284b8614fd5a1c26851d2af57e4",
      "3bc52005adac4643b47347fd9e25b946",
      "5d0342aedb254bbfb933f8a6c9981548",
      "eafb2fbf1d3a4ebcb8210afc585e2e4c",
      "3c6a91c641c242ff96e165a09b85368c",
      "b463fdbfecc349b1be5e24d09989599f",
      "ad617aa5237144f5943d8b445a03dc12",
      "caab60d0058b4de39b7d782f623b23c0",
      "a7a8e4f88cda44b08a14b10eea4b6314",
      "2b52437fd26e4d46a078c194c36fd80a",
      "da23cf9e5c6440a69ccd8cb50ec0c046",
      "a721dedb7f7d448e9dbf1f44cf4e87ee",
      "ca33de0317b94cc19dee764d88438c95",
      "deb8231838b041ceb76eb5204a3c20ca",
      "aa5db2ee7d684c258c4d7c0e1a8af6db",
      "bc39d8fdebd0455b97ade4ee08962335",
      "886a000cde504ef681504d1a17fc9c18",
      "0a8dc059ac064239b532c8990fdf68fe",
      "9153115ac07747ac84813aeea338c5e1",
      "23718583ec7b46e4914a23a21d557845",
      "af7ffbb7ec5d4c19a883f150947e41bc",
      "1e5d73471a6d417fa0926ea631dccfc6",
      "48186b2cbab840c8a886e3d1c4293c23",
      "1999c71deaf444c680451fb217122463",
      "b9d8042df76d42c6b388d062d9f69332",
      "d40c78091aa14507bb3fe839ceb0f9da",
      "6f11e0be27d2445a81a702cf3e02ddaa",
      "7fe773f0087d4206b1f4b0147aebe0ce",
      "20f636e285574b2e83c60a60f99d6433",
      "2f87a234abeb490494cccff575c097d7",
      "c4ad97f0fb354463b23be1922a58dc8c",
      "50a8479f69a5447686750c40f98a63b4",
      "9eff735bd0b84cd4b52b5c607448490b",
      "9f2e29636fe540a491b791d8e27db184",
      "4be7b6032c314622a678ce1b7e0d5075",
      "84bb30e0c14c4601aef24cc9dca0633b",
      "39e87b137c55481fa4c7fac1748ca5e1",
      "d30a98f68cbb4623a5980bba3bd40502",
      "76f8dd47e3e1463d8103f9a806a05d21",
      "8ec8598130244842a7b8aee6170351f2",
      "bf8fdfa5c8b44bceb9bb30ab75d35fc4",
      "98276536db6842859cc2fb6c7c12e91e",
      "420e0ce3a24b42a687fe6a4651b66709",
      "ba8adae35794431698e21806e41e9eae",
      "d5099f49ff384f4fa669758a61ed4c3d",
      "4f027071bc3d45018eac565a47f9a9de",
      "13567846357141278482bf0c97e6d41d",
      "64e73400d02d4f33872bb6196eca2ff5",
      "7d780e29290545059cf141b8796f9adb",
      "85e542497f924de693b68b9535e2fb0e",
      "e3a0235a16194ca398860bf704c0c1f2",
      "54ade99694c44118ab065deaca1da337",
      "b39a1822b8044070aca5acbcb77d6e56",
      "9d918edc3df24b21a907bf10bc687c26",
      "b05cfdb26e8d42fbbc2b3d3b42bb9376",
      "13425c2b72ef40cba16a211c2b9bb2ca",
      "8273fce2c539468984c16822eadb7667",
      "f1ff2d1c0cc44d7088c08ae207dc8db5",
      "d40c2664818b4977be44fa8417ebc320",
      "2a51b9610241417090260ac84a7a7783",
      "4917cc76f6ee4c5ba787b95c11c20059",
      "25bef9ca4ded42139ddb4018cf9ab7f8",
      "512927847b6d4faa97a7d2d387825901",
      "ac843436aec544118a582892ff093a63",
      "df545a0e7c7749ab85a423e22430d7d7",
      "13bc3e9f6e0a413497c94033fc2251e7",
      "627e0fea9cac4c7c9c445cb38bed66a6",
      "6ef0e6418c6344d18a12b2381b796b25",
      "4fb3c487820b42b78d0a56e3bd9f7661",
      "52ebbfd037194f42a26deb14d236dc57",
      "f9085f40465643028d400bb55dd40c25",
      "1a69824b88f64edea1a92ef3235f56e1",
      "70e41e908af8439f86cff8bafb0f96a2",
      "7a796cef1793489f85275a183e30f71a",
      "514bbea5fb2e40c596619ae14f5787ea",
      "007f61bee0d741818e2f8257c343c256",
      "dbd4a075c1ef4867b40c338ac8dba24c",
      "5a03d4d297c448e6b7c78f5bd3adc55d",
      "4d483871487945e285aeae5159db0b20",
      "c2596ecd91864f158854fa8f3ada3e27",
      "55225dd3d2de45f3bd654f7aefd662ee",
      "dcaa62fe1e6a45ea911e9c59d07b68d2",
      "1644fc0eb3984431b58c71c509ee0cf6"
     ]
    },
    "id": "5fc8603f",
    "outputId": "011a0676-299c-45b9-9b35-ce8f9fe876cc",
    "pycharm": {
     "name": "#%%\n"
    }
   },
   "outputs": [
    {
     "name": "stderr",
     "output_type": "stream",
     "text": [
      "Using custom data configuration default-9e8b8625e23aa791\n"
     ]
    },
    {
     "name": "stdout",
     "output_type": "stream",
     "text": [
      "Downloading and preparing dataset csv/default to /root/.cache/huggingface/datasets/csv/default-9e8b8625e23aa791/0.0.0/433e0ccc46f9880962cc2b12065189766fbb2bee57a221866138fb9203c83519...\n"
     ]
    },
    {
     "data": {
      "application/vnd.jupyter.widget-view+json": {
       "model_id": "4bc97da50e9a4dde9abb5746f2439ed1",
       "version_major": 2,
       "version_minor": 0
      },
      "text/plain": [
       "Downloading data files:   0%|          | 0/1 [00:00<?, ?it/s]"
      ]
     },
     "metadata": {},
     "output_type": "display_data"
    },
    {
     "data": {
      "application/vnd.jupyter.widget-view+json": {
       "model_id": "ad617aa5237144f5943d8b445a03dc12",
       "version_major": 2,
       "version_minor": 0
      },
      "text/plain": [
       "Extracting data files:   0%|          | 0/1 [00:00<?, ?it/s]"
      ]
     },
     "metadata": {},
     "output_type": "display_data"
    },
    {
     "name": "stdout",
     "output_type": "stream",
     "text": [
      "Dataset csv downloaded and prepared to /root/.cache/huggingface/datasets/csv/default-9e8b8625e23aa791/0.0.0/433e0ccc46f9880962cc2b12065189766fbb2bee57a221866138fb9203c83519. Subsequent calls will reuse this data.\n"
     ]
    },
    {
     "data": {
      "application/vnd.jupyter.widget-view+json": {
       "model_id": "0a8dc059ac064239b532c8990fdf68fe",
       "version_major": 2,
       "version_minor": 0
      },
      "text/plain": [
       "  0%|          | 0/1 [00:00<?, ?it/s]"
      ]
     },
     "metadata": {},
     "output_type": "display_data"
    },
    {
     "data": {
      "application/vnd.jupyter.widget-view+json": {
       "model_id": "20f636e285574b2e83c60a60f99d6433",
       "version_major": 2,
       "version_minor": 0
      },
      "text/plain": [
       "  0%|          | 0/22500 [00:00<?, ?ex/s]"
      ]
     },
     "metadata": {},
     "output_type": "display_data"
    },
    {
     "name": "stderr",
     "output_type": "stream",
     "text": [
      "Using custom data configuration default-6a8d347e65f511f3\n"
     ]
    },
    {
     "name": "stdout",
     "output_type": "stream",
     "text": [
      "Downloading and preparing dataset csv/default to /root/.cache/huggingface/datasets/csv/default-6a8d347e65f511f3/0.0.0/433e0ccc46f9880962cc2b12065189766fbb2bee57a221866138fb9203c83519...\n"
     ]
    },
    {
     "data": {
      "application/vnd.jupyter.widget-view+json": {
       "model_id": "8ec8598130244842a7b8aee6170351f2",
       "version_major": 2,
       "version_minor": 0
      },
      "text/plain": [
       "Downloading data files:   0%|          | 0/1 [00:00<?, ?it/s]"
      ]
     },
     "metadata": {},
     "output_type": "display_data"
    },
    {
     "data": {
      "application/vnd.jupyter.widget-view+json": {
       "model_id": "e3a0235a16194ca398860bf704c0c1f2",
       "version_major": 2,
       "version_minor": 0
      },
      "text/plain": [
       "Extracting data files:   0%|          | 0/1 [00:00<?, ?it/s]"
      ]
     },
     "metadata": {},
     "output_type": "display_data"
    },
    {
     "name": "stdout",
     "output_type": "stream",
     "text": [
      "Dataset csv downloaded and prepared to /root/.cache/huggingface/datasets/csv/default-6a8d347e65f511f3/0.0.0/433e0ccc46f9880962cc2b12065189766fbb2bee57a221866138fb9203c83519. Subsequent calls will reuse this data.\n"
     ]
    },
    {
     "data": {
      "application/vnd.jupyter.widget-view+json": {
       "model_id": "25bef9ca4ded42139ddb4018cf9ab7f8",
       "version_major": 2,
       "version_minor": 0
      },
      "text/plain": [
       "  0%|          | 0/1 [00:00<?, ?it/s]"
      ]
     },
     "metadata": {},
     "output_type": "display_data"
    },
    {
     "data": {
      "application/vnd.jupyter.widget-view+json": {
       "model_id": "70e41e908af8439f86cff8bafb0f96a2",
       "version_major": 2,
       "version_minor": 0
      },
      "text/plain": [
       "  0%|          | 0/2500 [00:00<?, ?ex/s]"
      ]
     },
     "metadata": {},
     "output_type": "display_data"
    }
   ],
   "source": [
    "download_data(\"https://pl-flash-data.s3.amazonaws.com/imdb.zip\", \"./data/\")\n",
    "\n",
    "datamodule = TextClassificationData.from_csv(\n",
    "    \"review\",\n",
    "    \"sentiment\",\n",
    "    train_file=\"data/imdb/train.csv\",\n",
    "    val_file=\"data/imdb/valid.csv\",\n",
    "    batch_size=64,\n",
    ")"
   ]
  },
  {
   "cell_type": "code",
   "execution_count": null,
   "id": "9f5d0474",
   "metadata": {
    "id": "9f5d0474",
    "pycharm": {
     "name": "#%%\n"
    },
    "tags": []
   },
   "outputs": [],
   "source": [
    "suggested_conf = dict(\n",
    "    optimizer=[\"adam\", \"adamw\"],\n",
    "    lr=(5e-4, 1e-3),\n",
    ")\n",
    "\n",
    "model = AutoTextClassifier(\n",
    "    datamodule,\n",
    "    suggested_backbones=[\"prajjwal1/bert-tiny\"],\n",
    "    suggested_conf=suggested_conf,\n",
    "    max_epochs=4,\n",
    "    optimization_metric=\"val_accuracy\",\n",
    "    n_trials=1,\n",
    ")\n",
    "\n",
    "print(\"AutoTextClassifier initialised!\")\n",
    "trainer_config = {\"accelerator\":\"auto\", \"devices\":1}\n",
    "model.hp_tune(gpu=1, trainer_config=trainer_config)"
   ]
  },
  {
   "cell_type": "code",
   "execution_count": null,
   "id": "4a9c19a3",
   "metadata": {
    "colab": {
     "base_uri": "https://localhost:8080/",
     "height": 174
    },
    "id": "4a9c19a3",
    "outputId": "9889be2b-8552-4f69-e93a-b5ea69c7342f"
   },
   "outputs": [
    {
     "data": {
      "text/html": [
       "\n",
       "  <div id=\"df-c54d873f-ee1d-4ed8-a18a-46a34df09e47\">\n",
       "    <div class=\"colab-df-container\">\n",
       "      <div>\n",
       "<style scoped>\n",
       "    .dataframe tbody tr th:only-of-type {\n",
       "        vertical-align: middle;\n",
       "    }\n",
       "\n",
       "    .dataframe tbody tr th {\n",
       "        vertical-align: top;\n",
       "    }\n",
       "\n",
       "    .dataframe thead th {\n",
       "        text-align: right;\n",
       "    }\n",
       "</style>\n",
       "<table border=\"1\" class=\"dataframe\">\n",
       "  <thead>\n",
       "    <tr style=\"text-align: right;\">\n",
       "      <th></th>\n",
       "      <th>val_accuracy</th>\n",
       "      <th>train_accuracy</th>\n",
       "      <th>time_this_iter_s</th>\n",
       "      <th>should_checkpoint</th>\n",
       "      <th>done</th>\n",
       "      <th>timesteps_total</th>\n",
       "      <th>episodes_total</th>\n",
       "      <th>training_iteration</th>\n",
       "      <th>trial_id</th>\n",
       "      <th>experiment_id</th>\n",
       "      <th>...</th>\n",
       "      <th>hostname</th>\n",
       "      <th>node_ip</th>\n",
       "      <th>time_since_restore</th>\n",
       "      <th>timesteps_since_restore</th>\n",
       "      <th>iterations_since_restore</th>\n",
       "      <th>warmup_time</th>\n",
       "      <th>config/backbone</th>\n",
       "      <th>config/lr</th>\n",
       "      <th>config/optimizer</th>\n",
       "      <th>logdir</th>\n",
       "    </tr>\n",
       "  </thead>\n",
       "  <tbody>\n",
       "    <tr>\n",
       "      <th>0</th>\n",
       "      <td>0.8004</td>\n",
       "      <td>0.984375</td>\n",
       "      <td>30.232423</td>\n",
       "      <td>True</td>\n",
       "      <td>False</td>\n",
       "      <td>NaN</td>\n",
       "      <td>NaN</td>\n",
       "      <td>4</td>\n",
       "      <td>f3e66_00000</td>\n",
       "      <td>7ada6e549a4e4a7fbdfddadc99012877</td>\n",
       "      <td>...</td>\n",
       "      <td>b206c2fd5e9b</td>\n",
       "      <td>172.28.0.2</td>\n",
       "      <td>139.360543</td>\n",
       "      <td>0</td>\n",
       "      <td>4</td>\n",
       "      <td>0.007067</td>\n",
       "      <td>prajjwal1/bert-tiny</td>\n",
       "      <td>0.000919</td>\n",
       "      <td>adam</td>\n",
       "      <td>/root/ray_results/optimization_objective_2022-...</td>\n",
       "    </tr>\n",
       "  </tbody>\n",
       "</table>\n",
       "<p>1 rows × 24 columns</p>\n",
       "</div>\n",
       "      <button class=\"colab-df-convert\" onclick=\"convertToInteractive('df-c54d873f-ee1d-4ed8-a18a-46a34df09e47')\"\n",
       "              title=\"Convert this dataframe to an interactive table.\"\n",
       "              style=\"display:none;\">\n",
       "        \n",
       "  <svg xmlns=\"http://www.w3.org/2000/svg\" height=\"24px\"viewBox=\"0 0 24 24\"\n",
       "       width=\"24px\">\n",
       "    <path d=\"M0 0h24v24H0V0z\" fill=\"none\"/>\n",
       "    <path d=\"M18.56 5.44l.94 2.06.94-2.06 2.06-.94-2.06-.94-.94-2.06-.94 2.06-2.06.94zm-11 1L8.5 8.5l.94-2.06 2.06-.94-2.06-.94L8.5 2.5l-.94 2.06-2.06.94zm10 10l.94 2.06.94-2.06 2.06-.94-2.06-.94-.94-2.06-.94 2.06-2.06.94z\"/><path d=\"M17.41 7.96l-1.37-1.37c-.4-.4-.92-.59-1.43-.59-.52 0-1.04.2-1.43.59L10.3 9.45l-7.72 7.72c-.78.78-.78 2.05 0 2.83L4 21.41c.39.39.9.59 1.41.59.51 0 1.02-.2 1.41-.59l7.78-7.78 2.81-2.81c.8-.78.8-2.07 0-2.86zM5.41 20L4 18.59l7.72-7.72 1.47 1.35L5.41 20z\"/>\n",
       "  </svg>\n",
       "      </button>\n",
       "      \n",
       "  <style>\n",
       "    .colab-df-container {\n",
       "      display:flex;\n",
       "      flex-wrap:wrap;\n",
       "      gap: 12px;\n",
       "    }\n",
       "\n",
       "    .colab-df-convert {\n",
       "      background-color: #E8F0FE;\n",
       "      border: none;\n",
       "      border-radius: 50%;\n",
       "      cursor: pointer;\n",
       "      display: none;\n",
       "      fill: #1967D2;\n",
       "      height: 32px;\n",
       "      padding: 0 0 0 0;\n",
       "      width: 32px;\n",
       "    }\n",
       "\n",
       "    .colab-df-convert:hover {\n",
       "      background-color: #E2EBFA;\n",
       "      box-shadow: 0px 1px 2px rgba(60, 64, 67, 0.3), 0px 1px 3px 1px rgba(60, 64, 67, 0.15);\n",
       "      fill: #174EA6;\n",
       "    }\n",
       "\n",
       "    [theme=dark] .colab-df-convert {\n",
       "      background-color: #3B4455;\n",
       "      fill: #D2E3FC;\n",
       "    }\n",
       "\n",
       "    [theme=dark] .colab-df-convert:hover {\n",
       "      background-color: #434B5C;\n",
       "      box-shadow: 0px 1px 3px 1px rgba(0, 0, 0, 0.15);\n",
       "      filter: drop-shadow(0px 1px 2px rgba(0, 0, 0, 0.3));\n",
       "      fill: #FFFFFF;\n",
       "    }\n",
       "  </style>\n",
       "\n",
       "      <script>\n",
       "        const buttonEl =\n",
       "          document.querySelector('#df-c54d873f-ee1d-4ed8-a18a-46a34df09e47 button.colab-df-convert');\n",
       "        buttonEl.style.display =\n",
       "          google.colab.kernel.accessAllowed ? 'block' : 'none';\n",
       "\n",
       "        async function convertToInteractive(key) {\n",
       "          const element = document.querySelector('#df-c54d873f-ee1d-4ed8-a18a-46a34df09e47');\n",
       "          const dataTable =\n",
       "            await google.colab.kernel.invokeFunction('convertToInteractive',\n",
       "                                                     [key], {});\n",
       "          if (!dataTable) return;\n",
       "\n",
       "          const docLinkHtml = 'Like what you see? Visit the ' +\n",
       "            '<a target=\"_blank\" href=https://colab.research.google.com/notebooks/data_table.ipynb>data table notebook</a>'\n",
       "            + ' to learn more about interactive tables.';\n",
       "          element.innerHTML = '';\n",
       "          dataTable['output_type'] = 'display_data';\n",
       "          await google.colab.output.renderOutput(dataTable, element);\n",
       "          const docLink = document.createElement('div');\n",
       "          docLink.innerHTML = docLinkHtml;\n",
       "          element.appendChild(docLink);\n",
       "        }\n",
       "      </script>\n",
       "    </div>\n",
       "  </div>\n",
       "  "
      ],
      "text/plain": [
       "   val_accuracy  train_accuracy  time_this_iter_s  should_checkpoint   done  \\\n",
       "0        0.8004        0.984375         30.232423               True  False   \n",
       "\n",
       "   timesteps_total  episodes_total  training_iteration     trial_id  \\\n",
       "0              NaN             NaN                   4  f3e66_00000   \n",
       "\n",
       "                      experiment_id  ...      hostname     node_ip  \\\n",
       "0  7ada6e549a4e4a7fbdfddadc99012877  ...  b206c2fd5e9b  172.28.0.2   \n",
       "\n",
       "   time_since_restore  timesteps_since_restore iterations_since_restore  \\\n",
       "0          139.360543                        0                        4   \n",
       "\n",
       "  warmup_time      config/backbone  config/lr  config/optimizer  \\\n",
       "0    0.007067  prajjwal1/bert-tiny   0.000919              adam   \n",
       "\n",
       "                                              logdir  \n",
       "0  /root/ray_results/optimization_objective_2022-...  \n",
       "\n",
       "[1 rows x 24 columns]"
      ]
     },
     "execution_count": null,
     "metadata": {},
     "output_type": "execute_result"
    }
   ],
   "source": [
    "model.analysis.dataframe()"
   ]
  },
  {
   "cell_type": "code",
   "execution_count": null,
   "id": "d0b96bd0-3949-4dd5-b6d9-4fa6ac213e30",
   "metadata": {
    "colab": {
     "base_uri": "https://localhost:8080/"
    },
    "id": "d0b96bd0-3949-4dd5-b6d9-4fa6ac213e30",
    "outputId": "19f7d12e-2693-4a3e-9b7f-a5cbd3ca7370"
   },
   "outputs": [
    {
     "name": "stderr",
     "output_type": "stream",
     "text": [
      "GPU available: True, used: True\n",
      "TPU available: False, using: 0 TPU cores\n",
      "IPU available: False, using: 0 IPUs\n",
      "HPU available: False, using: 0 HPUs\n"
     ]
    }
   ],
   "source": [
    "from flash import Trainer\n",
    "trainer = Trainer(accelerator=\"auto\", devices=1)"
   ]
  },
  {
   "cell_type": "code",
   "execution_count": null,
   "id": "6a95bc01-4291-49a8-bea7-c76ba64bf42a",
   "metadata": {
    "colab": {
     "base_uri": "https://localhost:8080/",
     "height": 184,
     "referenced_widgets": [
      "619134d36d194f3ea1c63188c2b25ea5",
      "dfd2e2343f2b4c089b40d3039c12a4d6",
      "5b3c4faa6004416da9785dd08f7cc4bc",
      "9e0abc3eeb0c4c9e95de3e85ec22fae3",
      "8d21f6b3d5ff4924aa4abff596d0f637",
      "ae405244057b44239652ba05219a6fd5",
      "2a2a5f73c16d4cf5b37e02384fe4799d",
      "21d30d8003764859b55f0c7e814e3f4f",
      "4d1a3b96fc81440098ad21c4cbf6ba8a",
      "b573b3481dbb4358a6ae1be45a37cd53",
      "76cee0084eeb4af6bad9a159cc9196d3"
     ]
    },
    "id": "6a95bc01-4291-49a8-bea7-c76ba64bf42a",
    "outputId": "84f05958-3571-4523-bc8d-3953fb52c76a"
   },
   "outputs": [
    {
     "name": "stderr",
     "output_type": "stream",
     "text": [
      "LOCAL_RANK: 0 - CUDA_VISIBLE_DEVICES: [0]\n"
     ]
    },
    {
     "data": {
      "application/vnd.jupyter.widget-view+json": {
       "model_id": "619134d36d194f3ea1c63188c2b25ea5",
       "version_major": 2,
       "version_minor": 0
      },
      "text/plain": [
       "Validation: 0it [00:00, ?it/s]"
      ]
     },
     "metadata": {},
     "output_type": "display_data"
    },
    {
     "data": {
      "text/html": [
       "<pre style=\"white-space:pre;overflow-x:auto;line-height:normal;font-family:Menlo,'DejaVu Sans Mono',consolas,'Courier New',monospace\">┏━━━━━━━━━━━━━━━━━━━━━━━━━━━┳━━━━━━━━━━━━━━━━━━━━━━━━━━━┓\n",
       "┃<span style=\"font-weight: bold\">      Validate metric      </span>┃<span style=\"font-weight: bold\">       DataLoader 0        </span>┃\n",
       "┡━━━━━━━━━━━━━━━━━━━━━━━━━━━╇━━━━━━━━━━━━━━━━━━━━━━━━━━━┩\n",
       "│<span style=\"color: #008080; text-decoration-color: #008080\">       val_accuracy        </span>│<span style=\"color: #800080; text-decoration-color: #800080\">    0.8787053227424622     </span>│\n",
       "│<span style=\"color: #008080; text-decoration-color: #008080\">     val_cross_entropy     </span>│<span style=\"color: #800080; text-decoration-color: #800080\">     0.410677433013916     </span>│\n",
       "└───────────────────────────┴───────────────────────────┘\n",
       "</pre>\n"
      ],
      "text/plain": [
       "┏━━━━━━━━━━━━━━━━━━━━━━━━━━━┳━━━━━━━━━━━━━━━━━━━━━━━━━━━┓\n",
       "┃\u001b[1m \u001b[0m\u001b[1m     Validate metric     \u001b[0m\u001b[1m \u001b[0m┃\u001b[1m \u001b[0m\u001b[1m      DataLoader 0       \u001b[0m\u001b[1m \u001b[0m┃\n",
       "┡━━━━━━━━━━━━━━━━━━━━━━━━━━━╇━━━━━━━━━━━━━━━━━━━━━━━━━━━┩\n",
       "│\u001b[36m \u001b[0m\u001b[36m      val_accuracy       \u001b[0m\u001b[36m \u001b[0m│\u001b[35m \u001b[0m\u001b[35m   0.8787053227424622    \u001b[0m\u001b[35m \u001b[0m│\n",
       "│\u001b[36m \u001b[0m\u001b[36m    val_cross_entropy    \u001b[0m\u001b[36m \u001b[0m│\u001b[35m \u001b[0m\u001b[35m    0.410677433013916    \u001b[0m\u001b[35m \u001b[0m│\n",
       "└───────────────────────────┴───────────────────────────┘\n"
      ]
     },
     "metadata": {},
     "output_type": "display_data"
    },
    {
     "data": {
      "text/plain": [
       "[{'val_accuracy': 0.8787053227424622, 'val_cross_entropy': 0.410677433013916}]"
      ]
     },
     "execution_count": null,
     "metadata": {},
     "output_type": "execute_result"
    }
   ],
   "source": [
    "trainer.validate(model.model, datamodule=datamodule)"
   ]
  }
 ],
 "metadata": {
  "accelerator": "GPU",
  "colab": {
   "name": "02-TextClassification.ipynb",
   "provenance": []
  },
  "interpreter": {
   "hash": "e6697cd4c0f4f58297a92a2dfda85db933b7e27cf6bc19e3dafb7e93fff75254"
  },
  "kernelspec": {
   "display_name": "Python 3 (ipykernel)",
   "language": "python",
   "name": "python3"
  },
  "language_info": {
   "codemirror_mode": {
    "name": "ipython",
    "version": 3
   },
   "file_extension": ".py",
   "mimetype": "text/x-python",
   "name": "python",
   "nbconvert_exporter": "python",
   "pygments_lexer": "ipython3",
   "version": "3.9.12"
  }
 },
 "nbformat": 4,
 "nbformat_minor": 5
}
