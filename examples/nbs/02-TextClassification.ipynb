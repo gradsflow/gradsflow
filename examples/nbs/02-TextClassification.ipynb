{
 "cells": [
  {
   "cell_type": "markdown",
   "id": "52697382",
   "metadata": {},
   "source": [
    "<!--<badge>--><a href=\"https://colab.research.google.com/github/gradsflow/gradsflow/blob/main/examples/nbs/02-TextClassification.ipynb\" target=\"_parent\"><img src=\"https://colab.research.google.com/assets/colab-badge.svg\" alt=\"Open In Colab\"/></a><!--</badge>-->"
   ]
  },
  {
   "cell_type": "code",
   "execution_count": null,
   "id": "e130bd40",
   "metadata": {},
   "outputs": [],
   "source": [
    "import os\n",
    "import sys\n",
    "\n",
    "os.chdir(\"../../\")"
   ]
  },
  {
   "cell_type": "code",
   "execution_count": null,
   "id": "592802fe",
   "metadata": {},
   "outputs": [],
   "source": [
    "import warnings\n",
    "\n",
    "warnings.filterwarnings(\"ignore\")"
   ]
  },
  {
   "cell_type": "code",
   "execution_count": null,
   "id": "bf38e2b8",
   "metadata": {},
   "outputs": [],
   "source": [
    "from flash.core.data.utils import download_data\n",
    "from flash.text import TextClassificationData\n",
    "from gradsflow import AutoTextClassifier\n",
    "\n",
    "import ray"
   ]
  },
  {
   "cell_type": "code",
   "execution_count": null,
   "id": "5fc8603f",
   "metadata": {
    "pycharm": {
     "name": "#%%\n"
    }
   },
   "outputs": [],
   "source": [
    "download_data(\"https://pl-flash-data.s3.amazonaws.com/imdb.zip\", \"./data/\")\n",
    "\n",
    "datamodule = TextClassificationData.from_csv(\n",
    "    \"review\",\n",
    "    \"sentiment\",\n",
    "    train_file=\"data/imdb/train.csv\",\n",
    "    val_file=\"data/imdb/valid.csv\",\n",
    "    batch_size=8,\n",
    ")"
   ]
  },
  {
   "cell_type": "code",
   "execution_count": null,
   "id": "9f5d0474",
   "metadata": {
    "pycharm": {
     "name": "#%%\n"
    },
    "tags": []
   },
   "outputs": [],
   "source": [
    "suggested_conf = dict(\n",
    "    optimizer=[\"adam\", \"adamw\"],\n",
    "    lr=(4e-3, 1e-2),\n",
    ")\n",
    "\n",
    "model = AutoTextClassifier(\n",
    "    datamodule,\n",
    "    suggested_backbones=[\"prajjwal1/bert-tiny\"],\n",
    "    suggested_conf=suggested_conf,\n",
    "    max_epochs=1,\n",
    "    optimization_metric=\"val_accuracy\",\n",
    "    n_trials=2,\n",
    ")\n",
    "\n",
    "print(\"AutoTextClassifier initialised!\")\n",
    "trainer_config = {\"accelerator\":\"auto\", \"devices\":1}\n",
    "model.hp_tune(gpu=0.5, trainer_config=trainer_config)"
   ]
  },
  {
   "cell_type": "code",
   "execution_count": null,
   "id": "4a9c19a3",
   "metadata": {},
   "outputs": [],
   "source": [
    "model.analysis.dataframe()"
   ]
  },
  {
   "cell_type": "code",
   "execution_count": null,
   "id": "d0b96bd0-3949-4dd5-b6d9-4fa6ac213e30",
   "metadata": {},
   "outputs": [],
   "source": [
    "from flash import Trainer\n",
    "trainer = Trainer(accelerator = \"auto\", devices=1)"
   ]
  },
  {
   "cell_type": "code",
   "execution_count": null,
   "id": "6a95bc01-4291-49a8-bea7-c76ba64bf42a",
   "metadata": {},
   "outputs": [],
   "source": [
    "trainer.validate(model.model, datamodule=datamodule)"
   ]
  }
 ],
 "metadata": {
  "interpreter": {
   "hash": "e6697cd4c0f4f58297a92a2dfda85db933b7e27cf6bc19e3dafb7e93fff75254"
  },
  "kernelspec": {
   "display_name": "Python 3 (ipykernel)",
   "language": "python",
   "name": "python3"
  },
  "language_info": {
   "codemirror_mode": {
    "name": "ipython",
    "version": 3
   },
   "file_extension": ".py",
   "mimetype": "text/x-python",
   "name": "python",
   "nbconvert_exporter": "python",
   "pygments_lexer": "ipython3",
   "version": "3.9.12"
  }
 },
 "nbformat": 4,
 "nbformat_minor": 5
}
