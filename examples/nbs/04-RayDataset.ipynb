{
 "cells": [
  {
   "cell_type": "markdown",
   "id": "3eeac1f6",
   "metadata": {},
   "source": [
    "- DatasetFolder\n",
    "\n",
    "```directory/\n",
    "├── class_x\n",
    "│   ├── xxx.ext\n",
    "│   ├── xxy.ext\n",
    "│   └── ...\n",
    "│       └── xxz.ext\n",
    "└── class_y\n",
    "    ├── 123.ext\n",
    "    ├── nsdf3.ext\n",
    "    └── ...\n",
    "    └── asd932_.ext\n",
    "```\n",
    "\n",
    "- ImageFolder\n",
    "\n",
    "```\n",
    "root/dog/xxx.png\n",
    "root/dog/xxy.png\n",
    "root/dog/[...]/xxz.png\n",
    "\n",
    "root/cat/123.png\n",
    "root/cat/nsdf3.png\n",
    "root/cat/[...]/asd932_.png\n",
    "```"
   ]
  },
  {
   "cell_type": "code",
   "execution_count": null,
   "id": "8a928f0d",
   "metadata": {},
   "outputs": [],
   "source": [
    "import os\n",
    "os.chdir(\"../../\")"
   ]
  },
  {
   "cell_type": "code",
   "execution_count": null,
   "id": "b8c9724e",
   "metadata": {},
   "outputs": [],
   "source": [
    "from torch.utils.data import DataLoader\n",
    "from gradsflow import data\n",
    "from gradsflow.data.image import ImageFolder\n",
    "from torchvision import transforms as T"
   ]
  },
  {
   "cell_type": "code",
   "execution_count": null,
   "id": "f69e277b",
   "metadata": {},
   "outputs": [],
   "source": [
    "transforms = T.Compose([\n",
    "    T.CenterCrop(224),\n",
    "    T.ToTensor()])\n",
    "    \n",
    "\n",
    "ds = ImageFolder(\"/Users/aniket/Pictures/data/train/\", transforms)"
   ]
  },
  {
   "cell_type": "code",
   "execution_count": null,
   "id": "43cdbc02",
   "metadata": {},
   "outputs": [],
   "source": [
    "dl = DataLoader(ds, batch_size=2)"
   ]
  },
  {
   "cell_type": "code",
   "execution_count": null,
   "id": "d7b2d554",
   "metadata": {},
   "outputs": [],
   "source": [
    "next(iter(dl))[0].shape"
   ]
  },
  {
   "cell_type": "code",
   "execution_count": null,
   "id": "450fb594",
   "metadata": {},
   "outputs": [],
   "source": []
  },
  {
   "cell_type": "code",
   "execution_count": null,
   "id": "ef53c519",
   "metadata": {},
   "outputs": [],
   "source": []
  }
 ],
 "metadata": {
  "kernelspec": {
   "display_name": "Python 3 (ipykernel)",
   "language": "python",
   "name": "python3"
  },
  "language_info": {
   "codemirror_mode": {
    "name": "ipython",
    "version": 3
   },
   "file_extension": ".py",
   "mimetype": "text/x-python",
   "name": "python",
   "nbconvert_exporter": "python",
   "pygments_lexer": "ipython3",
   "version": "3.8.11"
  }
 },
 "nbformat": 4,
 "nbformat_minor": 5
}
