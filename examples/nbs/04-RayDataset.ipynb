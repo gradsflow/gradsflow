{
 "cells": [
  {
   "cell_type": "markdown",
   "id": "6de0a976",
   "metadata": {},
   "source": [
    "- DatasetFolder\n",
    "\n",
    "```directory/\n",
    "├── class_x\n",
    "│   ├── xxx.ext\n",
    "│   ├── xxy.ext\n",
    "│   └── ...\n",
    "│       └── xxz.ext\n",
    "└── class_y\n",
    "    ├── 123.ext\n",
    "    ├── nsdf3.ext\n",
    "    └── ...\n",
    "    └── asd932_.ext\n",
    "```\n",
    "\n",
    "- ImageFolder\n",
    "\n",
    "```\n",
    "root/dog/xxx.png\n",
    "root/dog/xxy.png\n",
    "root/dog/[...]/xxz.png\n",
    "\n",
    "root/cat/123.png\n",
    "root/cat/nsdf3.png\n",
    "root/cat/[...]/asd932_.png\n",
    "```"
   ]
  },
  {
   "cell_type": "code",
   "execution_count": null,
   "id": "32b9a906",
   "metadata": {},
   "outputs": [],
   "source": [
    "import os\n",
    "os.chdir(\"../../\")"
   ]
  },
  {
   "cell_type": "code",
   "execution_count": null,
   "id": "8ef6dfcf",
   "metadata": {},
   "outputs": [],
   "source": [
    "from torch.utils.data import DataLoader\n",
    "from gradsflow import data\n",
    "from gradsflow.data.image import ImageFolder, image_dataset_from_directory\n",
    "from torchvision import transforms as T"
   ]
  },
  {
   "cell_type": "code",
   "execution_count": null,
   "id": "798701bf",
   "metadata": {},
   "outputs": [],
   "source": [
    "transforms = T.Compose([\n",
    "    T.CenterCrop(224),\n",
    "    T.ToTensor()])\n",
    "    \n",
    "\n",
    "ds = ImageFolder(\"/Users/aniket/Pictures/data/train/\", transforms)"
   ]
  },
  {
   "cell_type": "code",
   "execution_count": null,
   "id": "09f200dd",
   "metadata": {},
   "outputs": [],
   "source": [
    "dl = DataLoader(ds, batch_size=2, num_workers=2)"
   ]
  },
  {
   "cell_type": "code",
   "execution_count": null,
   "id": "87d0dc81",
   "metadata": {},
   "outputs": [],
   "source": [
    "next(iter(dl))[0].shape"
   ]
  },
  {
   "cell_type": "code",
   "execution_count": null,
   "id": "edf8233e",
   "metadata": {},
   "outputs": [],
   "source": [
    "dl = image_dataset_from_directory(\n",
    "    \"/Users/aniket/Pictures/data/train/\", \n",
    "    transforms=transforms,\n",
    "    num_workers=0,\n",
    "    pin_memory=False\n",
    ")"
   ]
  },
  {
   "cell_type": "code",
   "execution_count": null,
   "id": "5da100a6",
   "metadata": {},
   "outputs": [],
   "source": [
    "next(iter(dl))"
   ]
  },
  {
   "cell_type": "code",
   "execution_count": null,
   "id": "c2edd6d9",
   "metadata": {},
   "outputs": [],
   "source": []
  }
 ],
 "metadata": {
  "kernelspec": {
   "display_name": "Python 3 (ipykernel)",
   "language": "python",
   "name": "python3"
  },
  "language_info": {
   "codemirror_mode": {
    "name": "ipython",
    "version": 3
   },
   "file_extension": ".py",
   "mimetype": "text/x-python",
   "name": "python",
   "nbconvert_exporter": "python",
   "pygments_lexer": "ipython3",
   "version": "3.8.11"
  }
 },
 "nbformat": 4,
 "nbformat_minor": 5
}
