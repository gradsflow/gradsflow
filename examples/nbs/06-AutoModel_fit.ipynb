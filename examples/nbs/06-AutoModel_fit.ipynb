{
 "cells": [
  {
   "cell_type": "markdown",
   "id": "4ae8e705",
   "metadata": {},
   "source": [
    "<!--<badge>--><a href=\"https://colab.research.google.com/github/gradsflow/gradsflow/blob/main/examples/nbs/06-AutoModel_fit.ipynb\" target=\"_parent\"><img src=\"https://colab.research.google.com/assets/colab-badge.svg\" alt=\"Open In Colab\"/></a><!--</badge>-->"
   ]
  },
  {
   "cell_type": "code",
   "execution_count": null,
   "id": "83d3b5a5",
   "metadata": {},
   "outputs": [],
   "source": [
    "import os\n",
    "\n",
    "# you can remove this\n",
    "os.chdir(\"../../\")"
   ]
  },
  {
   "cell_type": "code",
   "execution_count": null,
   "id": "f4c2b548",
   "metadata": {},
   "outputs": [],
   "source": [
    "from gradsflow import Model\n",
    "from gradsflow.tuner.tuner import Tuner\n",
    "from gradsflow.models.constants import LEARNER"
   ]
  },
  {
   "cell_type": "code",
   "execution_count": null,
   "id": "364f5d03",
   "metadata": {},
   "outputs": [],
   "source": [
    "from timm import create_model\n",
    "from torch.utils.data import DataLoader\n",
    "from torchvision.datasets import FakeData\n",
    "\n",
    "from gradsflow import AutoDataset, Model\n",
    "from gradsflow.data.image import get_augmentations\n",
    "\n",
    "image_size = (128, 128)\n",
    "transform = get_augmentations(image_size)\n",
    "train_ds = FakeData(size=100, image_size=[3, *image_size], transform=transform)\n",
    "val_ds = FakeData(size=100, image_size=[3, *image_size], transform=transform)\n",
    "train_dl = DataLoader(train_ds)\n",
    "val_dl = DataLoader(val_ds)\n",
    "\n",
    "num_classes = train_ds.num_classes\n",
    "autodataset = AutoDataset(train_dl, val_dl, num_classes=num_classes)\n",
    "\n",
    "cnn1 = create_model(\"resnet18\", pretrained=False, num_classes=num_classes)\n",
    "cnn2 = create_model(\"efficientnet_b0\", pretrained=False, num_classes=num_classes)"
   ]
  },
  {
   "cell_type": "code",
   "execution_count": null,
   "id": "71335142",
   "metadata": {},
   "outputs": [],
   "source": [
    "from gradsflow.tuner.tuner import Tuner\n",
    "from gradsflow.tuner.automodel import AutoModelV2"
   ]
  },
  {
   "cell_type": "code",
   "execution_count": null,
   "id": "943f8e82",
   "metadata": {},
   "outputs": [],
   "source": [
    "tuner = Tuner()\n",
    "\n",
    "cnns = tuner.suggest_complex(\"learner\", cnn1, cnn2)\n",
    "optimizers = tuner.choice(\"optimizer\", \"adam\", \"sgd\")\n",
    "loss = tuner.choice(\n",
    "    \"loss\",\n",
    "    \"crossentropyloss\",\n",
    ")\n",
    "\n",
    "model = AutoModelV2(cnns)"
   ]
  },
  {
   "cell_type": "code",
   "execution_count": null,
   "id": "aa214a1c",
   "metadata": {},
   "outputs": [
    {
     "name": "stderr",
     "output_type": "stream",
     "text": [
      "2021-09-29 18:23:36,147\tINFO services.py:1263 -- View the Ray dashboard at \u001b[1m\u001b[32mhttp://127.0.0.1:8265\u001b[39m\u001b[22m\n",
      "2021-09-29 18:23:38,658\tWARNING function_runner.py:558 -- Function checkpointing is disabled. This may result in unexpected behavior when using checkpointing features or certain schedulers. To enable, set the train function arguments to be `func(config, checkpoint_dir=None)`.\n",
      "2021-09-29 18:23:39,886\tWARNING worker.py:1215 -- Warning: The actor ImplicitFunc is very large (42 MiB). Check that its definition is not implicitly capturing a large array or other object in scope. Tip: use ray.put() to put large objects in the Ray object store.\n"
     ]
    },
    {
     "data": {
      "text/html": [
       "== Status ==<br>Memory usage on this node: 10.5/16.0 GiB<br>Using FIFO scheduling algorithm.<br>Resources requested: 1.0/8 CPUs, 0/0 GPUs, 0.0/4.59 GiB heap, 0.0/2.29 GiB objects<br>Result logdir: /Users/aniket/ray_results/_hp_optimizer_2021-09-29_18-23-38<br>Number of trials: 1/1 (1 RUNNING)<br><table>\n",
       "<thead>\n",
       "<tr><th>Trial name               </th><th>status  </th><th>loc  </th><th style=\"text-align: right;\">  learner</th><th>loss            </th><th>optimizer  </th></tr>\n",
       "</thead>\n",
       "<tbody>\n",
       "<tr><td>_hp_optimizer_444f2_00000</td><td>RUNNING </td><td>     </td><td style=\"text-align: right;\">        1</td><td>crossentropyloss</td><td>adam       </td></tr>\n",
       "</tbody>\n",
       "</table><br><br>"
      ],
      "text/plain": [
       "<IPython.core.display.HTML object>"
      ]
     },
     "metadata": {},
     "output_type": "display_data"
    },
    {
     "name": "stdout",
     "output_type": "stream",
     "text": [
      "\u001b[2m\u001b[36m(pid=98051)\u001b[0m {'learner': <gradsflow.tuner.tuner.ComplexObject object at 0x7f9e76a5e220>}\n",
      "Result for _hp_optimizer_444f2_00000:\n",
      "  date: 2021-09-29_18-24-13\n",
      "  done: false\n",
      "  experiment_id: 5bbc0bc13f824f7ba3b3aedd98e5e29c\n",
      "  hostname: Anikets-Turing-Machine.local\n",
      "  iterations_since_restore: 1\n",
      "  node_ip: 192.168.1.84\n",
      "  pid: 98051\n",
      "  should_checkpoint: true\n",
      "  time_since_restore: 28.78166699409485\n",
      "  time_this_iter_s: 28.78166699409485\n",
      "  time_total_s: 28.78166699409485\n",
      "  timestamp: 1632920053\n",
      "  timesteps_since_restore: 0\n",
      "  train_loss: 2.5053689443814555\n",
      "  training_iteration: 1\n",
      "  trial_id: 444f2_00000\n",
      "  val_accuracy: 0.14\n",
      "  val_loss: 2.3365581404929157\n",
      "  \n"
     ]
    },
    {
     "data": {
      "text/html": [
       "== Status ==<br>Memory usage on this node: 10.3/16.0 GiB<br>Using FIFO scheduling algorithm.<br>Resources requested: 1.0/8 CPUs, 0/0 GPUs, 0.0/4.59 GiB heap, 0.0/2.29 GiB objects<br>Current best trial: 444f2_00000 with val_loss=2.3365581404929157 and parameters={'learner': 1, 'optimizer': 'adam', 'loss': 'crossentropyloss'}<br>Result logdir: /Users/aniket/ray_results/_hp_optimizer_2021-09-29_18-23-38<br>Number of trials: 1/1 (1 RUNNING)<br><table>\n",
       "<thead>\n",
       "<tr><th>Trial name               </th><th>status  </th><th>loc               </th><th style=\"text-align: right;\">  learner</th><th>loss            </th><th>optimizer  </th><th style=\"text-align: right;\">  iter</th><th style=\"text-align: right;\">  total time (s)</th><th style=\"text-align: right;\">  val_loss</th><th style=\"text-align: right;\">  val_accuracy</th><th style=\"text-align: right;\">  train_loss</th></tr>\n",
       "</thead>\n",
       "<tbody>\n",
       "<tr><td>_hp_optimizer_444f2_00000</td><td>RUNNING </td><td>192.168.1.84:98051</td><td style=\"text-align: right;\">        1</td><td>crossentropyloss</td><td>adam       </td><td style=\"text-align: right;\">     1</td><td style=\"text-align: right;\">         28.7817</td><td style=\"text-align: right;\">   2.33656</td><td style=\"text-align: right;\">          0.14</td><td style=\"text-align: right;\">     2.50537</td></tr>\n",
       "</tbody>\n",
       "</table><br><br>"
      ],
      "text/plain": [
       "<IPython.core.display.HTML object>"
      ]
     },
     "metadata": {},
     "output_type": "display_data"
    },
    {
     "name": "stderr",
     "output_type": "stream",
     "text": [
      "2021-09-29 18:24:36,862\tWARNING tune.py:518 -- SIGINT received (e.g. via Ctrl+C), ending Ray Tune run. This will try to checkpoint the experiment state one last time. Press CTRL+C one more time (or send SIGINT/SIGKILL/SIGTERM) to skip. \n"
     ]
    },
    {
     "name": "stdout",
     "output_type": "stream",
     "text": [
      "Result for _hp_optimizer_444f2_00000:\n",
      "  date: 2021-09-29_18-24-43\n",
      "  done: false\n",
      "  experiment_id: 5bbc0bc13f824f7ba3b3aedd98e5e29c\n",
      "  hostname: Anikets-Turing-Machine.local\n",
      "  iterations_since_restore: 2\n",
      "  node_ip: 192.168.1.84\n",
      "  pid: 98051\n",
      "  should_checkpoint: true\n",
      "  time_since_restore: 59.00033497810364\n",
      "  time_this_iter_s: 30.21866798400879\n",
      "  time_total_s: 59.00033497810364\n",
      "  timestamp: 1632920083\n",
      "  timesteps_since_restore: 0\n",
      "  train_loss: 2.4123901867625275\n",
      "  training_iteration: 2\n",
      "  trial_id: 444f2_00000\n",
      "  val_accuracy: 0.13\n",
      "  val_loss: 2.3525213491681405\n",
      "  \n"
     ]
    },
    {
     "data": {
      "text/html": [
       "== Status ==<br>Memory usage on this node: 10.3/16.0 GiB<br>Using FIFO scheduling algorithm.<br>Resources requested: 1.0/8 CPUs, 0/0 GPUs, 0.0/4.59 GiB heap, 0.0/2.29 GiB objects<br>Current best trial: 444f2_00000 with val_loss=2.3525213491681405 and parameters={'learner': 1, 'optimizer': 'adam', 'loss': 'crossentropyloss'}<br>Result logdir: /Users/aniket/ray_results/_hp_optimizer_2021-09-29_18-23-38<br>Number of trials: 1/1 (1 RUNNING)<br><table>\n",
       "<thead>\n",
       "<tr><th>Trial name               </th><th>status  </th><th>loc               </th><th style=\"text-align: right;\">  learner</th><th>loss            </th><th>optimizer  </th><th style=\"text-align: right;\">  iter</th><th style=\"text-align: right;\">  total time (s)</th><th style=\"text-align: right;\">  val_loss</th><th style=\"text-align: right;\">  val_accuracy</th><th style=\"text-align: right;\">  train_loss</th></tr>\n",
       "</thead>\n",
       "<tbody>\n",
       "<tr><td>_hp_optimizer_444f2_00000</td><td>RUNNING </td><td>192.168.1.84:98051</td><td style=\"text-align: right;\">        1</td><td>crossentropyloss</td><td>adam       </td><td style=\"text-align: right;\">     2</td><td style=\"text-align: right;\">         59.0003</td><td style=\"text-align: right;\">   2.35252</td><td style=\"text-align: right;\">          0.13</td><td style=\"text-align: right;\">     2.41239</td></tr>\n",
       "</tbody>\n",
       "</table><br><br>"
      ],
      "text/plain": [
       "<IPython.core.display.HTML object>"
      ]
     },
     "metadata": {},
     "output_type": "display_data"
    },
    {
     "data": {
      "text/html": [
       "== Status ==<br>Memory usage on this node: 10.3/16.0 GiB<br>Using FIFO scheduling algorithm.<br>Resources requested: 1.0/8 CPUs, 0/0 GPUs, 0.0/4.59 GiB heap, 0.0/2.29 GiB objects<br>Current best trial: 444f2_00000 with val_loss=2.3525213491681405 and parameters={'learner': 1, 'optimizer': 'adam', 'loss': 'crossentropyloss'}<br>Result logdir: /Users/aniket/ray_results/_hp_optimizer_2021-09-29_18-23-38<br>Number of trials: 1/1 (1 RUNNING)<br><table>\n",
       "<thead>\n",
       "<tr><th>Trial name               </th><th>status  </th><th>loc               </th><th style=\"text-align: right;\">  learner</th><th>loss            </th><th>optimizer  </th><th style=\"text-align: right;\">  iter</th><th style=\"text-align: right;\">  total time (s)</th><th style=\"text-align: right;\">  val_loss</th><th style=\"text-align: right;\">  val_accuracy</th><th style=\"text-align: right;\">  train_loss</th></tr>\n",
       "</thead>\n",
       "<tbody>\n",
       "<tr><td>_hp_optimizer_444f2_00000</td><td>RUNNING </td><td>192.168.1.84:98051</td><td style=\"text-align: right;\">        1</td><td>crossentropyloss</td><td>adam       </td><td style=\"text-align: right;\">     2</td><td style=\"text-align: right;\">         59.0003</td><td style=\"text-align: right;\">   2.35252</td><td style=\"text-align: right;\">          0.13</td><td style=\"text-align: right;\">     2.41239</td></tr>\n",
       "</tbody>\n",
       "</table><br><br>"
      ],
      "text/plain": [
       "<IPython.core.display.HTML object>"
      ]
     },
     "metadata": {},
     "output_type": "display_data"
    },
    {
     "name": "stderr",
     "output_type": "stream",
     "text": [
      "2021-09-29 18:24:43,544\tERROR tune.py:557 -- Trials did not complete: [_hp_optimizer_444f2_00000]\n",
      "2021-09-29 18:24:43,546\tINFO tune.py:561 -- Total run time: 64.89 seconds (64.27 seconds for the tuning loop).\n",
      "2021-09-29 18:24:43,547\tWARNING tune.py:565 -- Experiment has been interrupted, but the most recent state was saved. You can continue running this experiment by passing `resume=True` to `tune.run()`\n"
     ]
    }
   ],
   "source": [
    "model.hp_tune(tuner, autodataset, epochs=10)"
   ]
  },
  {
   "cell_type": "code",
   "execution_count": null,
   "id": "9c64cc0a",
   "metadata": {},
   "outputs": [
    {
     "data": {
      "text/plain": [
       "<gradsflow.tuner.tuner.Tuner at 0x7f7f648b2730>"
      ]
     },
     "execution_count": null,
     "metadata": {},
     "output_type": "execute_result"
    }
   ],
   "source": [
    "model.tuner"
   ]
  }
 ],
 "metadata": {
  "kernelspec": {
   "display_name": "Python 3 (ipykernel)",
   "language": "python",
   "name": "python3"
  },
  "language_info": {
   "codemirror_mode": {
    "name": "ipython",
    "version": 3
   },
   "file_extension": ".py",
   "mimetype": "text/x-python",
   "name": "python",
   "nbconvert_exporter": "python",
   "pygments_lexer": "ipython3",
   "version": "3.8.11"
  },
  "toc": {
   "base_numbering": 1,
   "nav_menu": {},
   "number_sections": true,
   "sideBar": true,
   "skip_h1_title": false,
   "title_cell": "Table of Contents",
   "title_sidebar": "Contents",
   "toc_cell": false,
   "toc_position": {},
   "toc_section_display": true,
   "toc_window_display": false
  }
 },
 "nbformat": 4,
 "nbformat_minor": 5
}
